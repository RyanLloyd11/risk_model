{
 "cells": [
  {
   "cell_type": "code",
   "execution_count": 1,
   "metadata": {},
   "outputs": [],
   "source": [
    "# -------------------------------------\n",
    "# Master script for Maritime Risk Model\n",
    "#\n",
    "#         Ryan Lloyd\n",
    "#         22/10/2018\n",
    "# -------------------------------------\n",
    "\n",
    "# ------- USAGE --------\n",
    "#\n",
    "# 1. Requires list of AIS data and incidents\n",
    "# 2. Requires some static model parameters\n",
    "#\n",
    "# ----------------------"
   ]
  },
  {
   "cell_type": "code",
   "execution_count": 2,
   "metadata": {},
   "outputs": [],
   "source": [
    "# Load environments\n",
    "import os\n",
    "import sys\n",
    "import arcgis\n",
    "import arcpy\n",
    "import pandas\n",
    "#import geopandas\n",
    "import csv\n",
    "import numpy\n",
    "import matplotlib\n",
    "import matplotlib.pyplot\n",
    "import pylab\n",
    "import glob\n",
    "import zipfile\n",
    "from arcpy.sa import *\n",
    "from importlib import reload"
   ]
  },
  {
   "cell_type": "code",
   "execution_count": 3,
   "metadata": {},
   "outputs": [],
   "source": [
    "# Input files\n",
    "AIS123_root= r\"C:/Users/Geollect/Documents/ArcGIS/Projects/risk_model/risk_data/AIS_123/\" # OS SPECIFIC \"/\"\n",
    "AIS005_root= r\"C:/Users/Geollect/Documents/ArcGIS/Projects/risk_model/risk_data/AIS_005/\" # OS SPECIFIC\n",
    "incidents_root= r\"C:/Users/Geollect/Documents/ArcGIS/Projects/risk_model/risk_data/incidents/\" # OS SPECIFIC\n",
    "AIS123_file = \"files_123.txt\"\n",
    "AIS005_file = \"files_005.txt\"\n",
    "incidents_file = \"incidents.txt\"\n",
    "continent_polygon = \"c:/Users/Geollect/Documents/ArcGIS/Projects/risk_model/risk_data/continents/World_Continents.lyrx\"\n",
    "\n",
    "FileGDB_path = \"c:/Users/Geollect/Documents/ArcGIS/Projects/risk_model/working_dir/\"\n",
    "FileGDB_name = \"risk_model.gdb\""
   ]
  },
  {
   "cell_type": "code",
   "execution_count": 4,
   "metadata": {},
   "outputs": [],
   "source": [
    "# Variables (FN size etc)\n",
    "\n",
    "spatial_ref = arcpy.SpatialReference(4326) #GC_WGS_1984 - 4326, WC - 3857\n",
    "AISjoin_field = \"MMSI\"\n",
    "AISjoin_order = \"ISODate\"\n",
    "grid_extent = [7, 10, -3, -7] # N,E,S,W\n",
    "SIZE  = 2500   # AREA (km^2) of grid\n",
    "SHAPE = \"SQUARE\" # Shape of grid cells"
   ]
  },
  {
   "cell_type": "code",
   "execution_count": 5,
   "metadata": {},
   "outputs": [],
   "source": [
    "# ------ DO NOT EDIT BELOW HERE ----------"
   ]
  },
  {
   "cell_type": "code",
   "execution_count": 6,
   "metadata": {},
   "outputs": [],
   "source": [
    "# Add folder of python modules:\n",
    "sys.path.append(r\"C:/Users/Geollect/Documents/ArcGIS/Projects/risk_model/risk_functions/\")"
   ]
  },
  {
   "cell_type": "code",
   "execution_count": 106,
   "metadata": {},
   "outputs": [
    {
     "data": {
      "text/plain": [
       "<module 'traffic' from 'C:/Users/Geollect/Documents/ArcGIS/Projects/risk_model/risk_functions\\\\traffic.py'>"
      ]
     },
     "execution_count": 106,
     "metadata": {},
     "output_type": "execute_result"
    }
   ],
   "source": [
    "import load_data\n",
    "import create_FileGDB\n",
    "import traffic\n",
    "import incidents\n",
    "reload(incidents)\n",
    "reload(load_data)\n",
    "reload(create_FileGDB)\n",
    "reload(traffic)"
   ]
  },
  {
   "cell_type": "code",
   "execution_count": 107,
   "metadata": {},
   "outputs": [],
   "source": [
    "# Load local modules\n",
    "from load_data import csv2shp, loadais, loadincidents, csv2dict\n",
    "from create_FileGDB import creategdb\n",
    "from traffic import ais2traffic\n",
    "from create_grid import tes_grid\n",
    "from incidents import incident_density"
   ]
  },
  {
   "cell_type": "code",
   "execution_count": 89,
   "metadata": {},
   "outputs": [
    {
     "name": "stdout",
     "output_type": "stream",
     "text": [
      "FileGDB already exists\n"
     ]
    }
   ],
   "source": [
    "# Set up FileGDB\n",
    "creategdb(FileGDB_path, FileGDB_name)\n",
    "arcpy.env.workspace = FileGDB_path + FileGDB_name"
   ]
  },
  {
   "cell_type": "code",
   "execution_count": 10,
   "metadata": {
    "scrolled": true
   },
   "outputs": [
    {
     "name": "stdout",
     "output_type": "stream",
     "text": [
      "csv files converted to points:\n",
      "incidents_022017.csv >> incidents_022017\n",
      "csv files converted to points:\n",
      "GoG123_20170201.csv >> GoG123_20170201\n",
      "GoG123_20170202.csv >> GoG123_20170202\n",
      "GoG123_20170203.csv >> GoG123_20170203\n"
     ]
    }
   ],
   "source": [
    "# Load in the AIS and incidents\n",
    "incidentspts = csv2shp(incidents_root,incidents_file,FileGDB_path,FileGDB_name)\n",
    "AIS123pts = csv2shp(AIS123_root, AIS123_file,FileGDB_path,FileGDB_name)"
   ]
  },
  {
   "cell_type": "code",
   "execution_count": 48,
   "metadata": {},
   "outputs": [
    {
     "name": "stdout",
     "output_type": "stream",
     "text": [
      "Output traffic files:\n",
      "c:/Users/Geollect/Documents/ArcGIS/Projects/risk_model/working_dir/GoG123_20170201_offshore_traffic_lyr\n",
      "['c:/Users/Geollect/Documents/ArcGIS/Projects/risk_model/working_dir/GoG123_20170201_offshore_traffic_lyr']\n"
     ]
    }
   ],
   "source": [
    "# Create Shipping tracks\n",
    "AIS123pts_test = AIS123pts[:1]\n",
    "traffic_lyr = ais2traffic(FileGDB_path,AIS123pts_test,AISjoin_field,AISjoin_order,continent_polygon)"
   ]
  },
  {
   "cell_type": "code",
   "execution_count": 50,
   "metadata": {},
   "outputs": [
    {
     "data": {
      "text/plain": [
       "['c:/Users/Geollect/Documents/ArcGIS/Projects/risk_model/working_dir/risk_model.gdb/GoG2500_grid_sea']"
      ]
     },
     "execution_count": 50,
     "metadata": {},
     "output_type": "execute_result"
    }
   ],
   "source": [
    "# Create base grid\n",
    "GRD = tes_grid(FileGDB_path, FileGDB_name, traffic_lyr, continent_polygon, grid_extent,spatial_ref, SIZE, SHAPE)"
   ]
  },
  {
   "cell_type": "code",
   "execution_count": 116,
   "metadata": {},
   "outputs": [
    {
     "name": "stdout",
     "output_type": "stream",
     "text": [
      "c:/Users/Geollect/Documents/ArcGIS/Projects/risk_model/working_dir/risk_model.gdb/incident_density\n",
      "['c:/Users/Geollect/Documents/ArcGIS/Projects/risk_model/working_dir/risk_model.gdb/incident_density_022017']\n"
     ]
    }
   ],
   "source": [
    "OUT, out_date = incident_density(FileGDB_path, FileGDB_name, incidentspts, GRD)\n",
    "print(OUT)\n",
    "print(out_date)"
   ]
  },
  {
   "cell_type": "code",
   "execution_count": null,
   "metadata": {},
   "outputs": [],
   "source": []
  },
  {
   "cell_type": "code",
   "execution_count": null,
   "metadata": {},
   "outputs": [],
   "source": []
  },
  {
   "cell_type": "code",
   "execution_count": null,
   "metadata": {},
   "outputs": [],
   "source": []
  },
  {
   "cell_type": "code",
   "execution_count": 14,
   "metadata": {},
   "outputs": [],
   "source": [
    "import arcpy\n",
    "\n",
    "# Set the workspace environment\n",
    "arcpy.env.workspace =\"c:/Users/Geollect/Documents/ArcGIS/Projects/risk_model/risk_data/continents/\"\n",
    "\n",
    "# Get a list of the feature classes in the input folder\n",
    "feature_classes = arcpy.ListFeatureClasses()\n",
    "\n",
    "# Loop through the list\n",
    "for fc in feature_classes:\n",
    "    # Create the spatial reference object\n",
    "    spatial_ref = arcpy.Describe(fc).spatialReference\n",
    "\n",
    "    # If the spatial reference is unknown\n",
    "    if spatial_ref.name == \"Unknown\":\n",
    "        print(\"{0} has an unknown spatial reference\".format(fc))\n",
    "\n",
    "    # Otherwise, print out the feature class name and\n",
    "    # spatial reference\n",
    "    else:\n",
    "        print(\"{0} : {1}\".format(fc, spatial_ref.name))"
   ]
  },
  {
   "cell_type": "code",
   "execution_count": null,
   "metadata": {},
   "outputs": [],
   "source": []
  },
  {
   "cell_type": "code",
   "execution_count": null,
   "metadata": {},
   "outputs": [],
   "source": []
  },
  {
   "cell_type": "code",
   "execution_count": null,
   "metadata": {},
   "outputs": [],
   "source": []
  },
  {
   "cell_type": "code",
   "execution_count": null,
   "metadata": {},
   "outputs": [],
   "source": []
  },
  {
   "cell_type": "code",
   "execution_count": null,
   "metadata": {},
   "outputs": [],
   "source": []
  },
  {
   "cell_type": "code",
   "execution_count": null,
   "metadata": {},
   "outputs": [],
   "source": []
  },
  {
   "cell_type": "code",
   "execution_count": null,
   "metadata": {},
   "outputs": [],
   "source": []
  },
  {
   "cell_type": "code",
   "execution_count": null,
   "metadata": {},
   "outputs": [],
   "source": []
  },
  {
   "cell_type": "code",
   "execution_count": null,
   "metadata": {},
   "outputs": [],
   "source": [
    "# Line density....? (parallel?)"
   ]
  },
  {
   "cell_type": "code",
   "execution_count": null,
   "metadata": {},
   "outputs": [],
   "source": []
  },
  {
   "cell_type": "code",
   "execution_count": null,
   "metadata": {},
   "outputs": [],
   "source": []
  },
  {
   "cell_type": "code",
   "execution_count": null,
   "metadata": {},
   "outputs": [],
   "source": []
  },
  {
   "cell_type": "code",
   "execution_count": null,
   "metadata": {},
   "outputs": [],
   "source": []
  },
  {
   "cell_type": "code",
   "execution_count": null,
   "metadata": {},
   "outputs": [],
   "source": []
  },
  {
   "cell_type": "code",
   "execution_count": null,
   "metadata": {},
   "outputs": [],
   "source": []
  },
  {
   "cell_type": "code",
   "execution_count": null,
   "metadata": {},
   "outputs": [],
   "source": []
  }
 ],
 "metadata": {
  "kernelspec": {
   "display_name": "Python 3",
   "language": "python",
   "name": "python3"
  },
  "language_info": {
   "codemirror_mode": {
    "name": "ipython",
    "version": 3
   },
   "file_extension": ".py",
   "mimetype": "text/x-python",
   "name": "python",
   "nbconvert_exporter": "python",
   "pygments_lexer": "ipython3",
   "version": "3.6.5"
  }
 },
 "nbformat": 4,
 "nbformat_minor": 2
}
