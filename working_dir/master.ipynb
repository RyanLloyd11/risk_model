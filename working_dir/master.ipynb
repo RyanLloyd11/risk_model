{
 "cells": [
  {
   "cell_type": "code",
   "execution_count": 1,
   "metadata": {},
   "outputs": [],
   "source": [
    "# -------------------------------------\n",
    "# Master script for Maritime Risk Model\n",
    "#\n",
    "#         Ryan Lloyd\n",
    "#         22/10/2018\n",
    "# -------------------------------------\n",
    "\n",
    "# ------- USAGE --------\n",
    "#\n",
    "# 1. Requires list of AIS data and incidents\n",
    "# 2. Requires some static model parameters\n",
    "#\n",
    "# ----------------------"
   ]
  },
  {
   "cell_type": "code",
   "execution_count": 2,
   "metadata": {},
   "outputs": [],
   "source": [
    "# Load environments\n",
    "import os\n",
    "import sys\n",
    "import arcgis\n",
    "import arcpy\n",
    "import pandas\n",
    "#import geopandas\n",
    "import csv\n",
    "import numpy\n",
    "import matplotlib\n",
    "import matplotlib.pyplot\n",
    "import pylab\n",
    "import glob\n",
    "import zipfile\n",
    "from arcpy.sa import *\n",
    "from importlib import reload"
   ]
  },
  {
   "cell_type": "code",
   "execution_count": 3,
   "metadata": {},
   "outputs": [],
   "source": [
    "# Input files\n",
    "AIS123_root= r\"C:/Users/Geollect/Documents/ArcGIS/Projects/risk_model/risk_data/AIS_123/\" # OS SPECIFIC \"/\"\n",
    "AIS005_root= r\"C:/Users/Geollect/Documents/ArcGIS/Projects/risk_model/risk_data/AIS_005/\" # OS SPECIFIC\n",
    "incidents_root= r\"C:/Users/Geollect/Documents/ArcGIS/Projects/risk_model/risk_data/incidents/\" # OS SPECIFIC\n",
    "AIS123_file = \"files_123.txt\"\n",
    "AIS005_file = \"files_005.txt\"\n",
    "incidents_file = \"incidents.txt\"\n",
    "continent_polygon = \"c:/Users/Geollect/Documents/ArcGIS/Projects/risk_model/risk_data/continents/World_Continents.lyrx\"\n",
    "\n",
    "FileGDB_path = \"c:/Users/Geollect/Documents/ArcGIS/Projects/risk_model/working_dir/\"\n",
    "FileGDB_name = \"risk_model.gdb\""
   ]
  },
  {
   "cell_type": "code",
   "execution_count": 36,
   "metadata": {},
   "outputs": [],
   "source": [
    "# Variables (FN size etc)\n",
    "\n",
    "spatial_ref = arcpy.SpatialReference(4326) #GC_WGS_1984 - 4326, WC - 3857\n",
    "AISjoin_field = \"MMSI\"\n",
    "AISjoin_order = \"ISODate\"\n",
    "grid_extent = [7, 10, -3, -7] # N,E,S,W\n",
    "SIZE  = 2500   # AREA (km^2) of grid\n",
    "SHAPE = \"SQUARE\" # Shape of grid cells"
   ]
  },
  {
   "cell_type": "code",
   "execution_count": 5,
   "metadata": {},
   "outputs": [],
   "source": [
    "# ------ DO NOT EDIT BELOW HERE ----------"
   ]
  },
  {
   "cell_type": "code",
   "execution_count": 6,
   "metadata": {},
   "outputs": [],
   "source": [
    "# Add folder of python modules:\n",
    "sys.path.append(r\"C:/Users/Geollect/Documents/ArcGIS/Projects/risk_model/risk_functions/\")"
   ]
  },
  {
   "cell_type": "code",
   "execution_count": 7,
   "metadata": {},
   "outputs": [
    {
     "data": {
      "text/plain": [
       "<module 'traffic' from 'C:/Users/Geollect/Documents/ArcGIS/Projects/risk_model/risk_functions\\\\traffic.py'>"
      ]
     },
     "execution_count": 7,
     "metadata": {},
     "output_type": "execute_result"
    }
   ],
   "source": [
    "import load_data\n",
    "import create_FileGDB\n",
    "import traffic\n",
    "reload(load_data)\n",
    "reload(create_FileGDB)\n",
    "reload(traffic)"
   ]
  },
  {
   "cell_type": "code",
   "execution_count": 8,
   "metadata": {},
   "outputs": [],
   "source": [
    "# Load local modules\n",
    "from load_data import csv2shp, loadais, loadincidents, csv2dict\n",
    "from create_FileGDB import creategdb\n",
    "from traffic import ais2traffic\n",
    "from create_grid import sq_fishnet"
   ]
  },
  {
   "cell_type": "code",
   "execution_count": 9,
   "metadata": {},
   "outputs": [
    {
     "name": "stdout",
     "output_type": "stream",
     "text": [
      "FileGDB already exists\n"
     ]
    }
   ],
   "source": [
    "# Set up FileGDB\n",
    "creategdb(FileGDB_path, FileGDB_name)\n",
    "arcpy.env.workspace = FileGDB_path + FileGDB_name"
   ]
  },
  {
   "cell_type": "code",
   "execution_count": 10,
   "metadata": {
    "scrolled": true
   },
   "outputs": [
    {
     "name": "stdout",
     "output_type": "stream",
     "text": [
      "csv files converted to points:\n",
      "incidents_022017.csv >> incidents_022017\n",
      "csv files converted to points:\n",
      "GoG123_20170201.csv >> GoG123_20170201\n",
      "GoG123_20170202.csv >> GoG123_20170202\n",
      "GoG123_20170203.csv >> GoG123_20170203\n"
     ]
    }
   ],
   "source": [
    "# Load in the AIS and incidents\n",
    "incidentspts = csv2shp(incidents_root,incidents_file,FileGDB_path,FileGDB_name)\n",
    "AIS123pts = csv2shp(AIS123_root, AIS123_file,FileGDB_path,FileGDB_name)"
   ]
  },
  {
   "cell_type": "code",
   "execution_count": 38,
   "metadata": {},
   "outputs": [
    {
     "name": "stdout",
     "output_type": "stream",
     "text": [
      "Output traffic files:\n",
      "c:/Users/Geollect/Documents/ArcGIS/Projects/risk_model/working_dir/GoG123_20170201_offshore_traffic_lyr\n",
      "['c:/Users/Geollect/Documents/ArcGIS/Projects/risk_model/working_dir/GoG123_20170201_offshore_traffic_lyr']\n"
     ]
    }
   ],
   "source": [
    "# Create Shipping tracks\n",
    "AIS123pts_test = AIS123pts[:1]\n",
    "traffic_lyr = ais2traffic(FileGDB_path,AIS123pts_test,AISjoin_field,AISjoin_order,continent_polygon)"
   ]
  },
  {
   "cell_type": "code",
   "execution_count": 45,
   "metadata": {},
   "outputs": [
    {
     "data": {
      "text/plain": [
       "['c:/Users/Geollect/Documents/ArcGIS/Projects/risk_model/working_dir/risk_model.gdb/GoG2500_grid_sea']"
      ]
     },
     "execution_count": 45,
     "metadata": {},
     "output_type": "execute_result"
    }
   ],
   "source": [
    "# Create base grid\n",
    "import create_grid\n",
    "reload(create_grid)\n",
    "from create_grid import tes_grid\n",
    "\n",
    "GRD = tes_grid(FileGDB_path, FileGDB_name, traffic_lyr, continent_polygon, grid_extent,spatial_ref, SIZE, SHAPE)\n",
    "GRD"
   ]
  },
  {
   "cell_type": "code",
   "execution_count": null,
   "metadata": {},
   "outputs": [],
   "source": []
  },
  {
   "cell_type": "code",
   "execution_count": 43,
   "metadata": {},
   "outputs": [],
   "source": [
    "# ATTACKS PER CELL \n",
    "\n",
    "# DONT FORGET ABOUT BOUNDARY PROBLEM \n",
    "# How to update this as more data becomes availible?\n",
    "# Which attributes are needed?\n",
    "# Going to need a 1-2-many for multiple attacks in cell -- relate?\n",
    "arcpy.SpatialJoin_analysis(\"GoGFN_land3\", \"c:\\\\Users\\\\Geollect\\\\Documents\\\\ArcGIS\\\\Projects\\\\risk_2\\\\risk_2.gdb\\\\attacks_GoG_2_XYTableToPoint1\",\"GoG_ACountCC7\",\"JOIN_ONE_TO_ONE\",\"KEEP_ALL\",\"\",\"COMPLETELY_CONTAINS\")"
   ]
  },
  {
   "cell_type": "code",
   "execution_count": null,
   "metadata": {},
   "outputs": [],
   "source": [
    "### Attack density with several ips...\n",
    "\n",
    "# add attack density = 0 field. then sum (kinda like iteratively)\n",
    "\n",
    "# DIVIDE -- attacks/deg (deg^-1)\n",
    "arcpy.AddField_management('GoG_ACountCC3', \"attack_dens\", \"FLOAT\",\"\",\"5\",\"\",\"\",\"NULLABLE\",\"REQUIRED\", \"\")\n",
    "arcpy.CalculateField_management(\"GoG_ACountCC3\",\"attack_dens\", \"!Join_Count!/(!SA_3!)\", 'PYTHON3')"
   ]
  },
  {
   "cell_type": "code",
   "execution_count": null,
   "metadata": {},
   "outputs": [],
   "source": []
  },
  {
   "cell_type": "code",
   "execution_count": null,
   "metadata": {},
   "outputs": [],
   "source": []
  },
  {
   "cell_type": "code",
   "execution_count": 14,
   "metadata": {},
   "outputs": [],
   "source": [
    "import arcpy\n",
    "\n",
    "# Set the workspace environment\n",
    "arcpy.env.workspace =\"c:/Users/Geollect/Documents/ArcGIS/Projects/risk_model/risk_data/continents/\"\n",
    "\n",
    "# Get a list of the feature classes in the input folder\n",
    "feature_classes = arcpy.ListFeatureClasses()\n",
    "\n",
    "# Loop through the list\n",
    "for fc in feature_classes:\n",
    "    # Create the spatial reference object\n",
    "    spatial_ref = arcpy.Describe(fc).spatialReference\n",
    "\n",
    "    # If the spatial reference is unknown\n",
    "    if spatial_ref.name == \"Unknown\":\n",
    "        print(\"{0} has an unknown spatial reference\".format(fc))\n",
    "\n",
    "    # Otherwise, print out the feature class name and\n",
    "    # spatial reference\n",
    "    else:\n",
    "        print(\"{0} : {1}\".format(fc, spatial_ref.name))"
   ]
  },
  {
   "cell_type": "code",
   "execution_count": null,
   "metadata": {},
   "outputs": [],
   "source": []
  },
  {
   "cell_type": "code",
   "execution_count": null,
   "metadata": {},
   "outputs": [],
   "source": []
  },
  {
   "cell_type": "code",
   "execution_count": null,
   "metadata": {},
   "outputs": [],
   "source": []
  },
  {
   "cell_type": "code",
   "execution_count": null,
   "metadata": {},
   "outputs": [],
   "source": []
  },
  {
   "cell_type": "code",
   "execution_count": null,
   "metadata": {},
   "outputs": [],
   "source": []
  },
  {
   "cell_type": "code",
   "execution_count": null,
   "metadata": {},
   "outputs": [],
   "source": []
  },
  {
   "cell_type": "code",
   "execution_count": null,
   "metadata": {},
   "outputs": [],
   "source": []
  },
  {
   "cell_type": "code",
   "execution_count": null,
   "metadata": {},
   "outputs": [],
   "source": []
  },
  {
   "cell_type": "code",
   "execution_count": null,
   "metadata": {},
   "outputs": [],
   "source": [
    "# Calculate attack density function\n",
    "\n",
    "# How to update this as more data becomes availible? - see my adding proportionally notes\n",
    "# Which attributes are needed?\n",
    "# Going to need a 1-2-many for multiple attacks in cell -- relate?\n",
    "arcpy.SpatialJoin_analysis(\"GoGFN_land3\", \"c:\\\\Users\\\\Geollect\\\\Documents\\\\ArcGIS\\\\Projects\\\\risk_2\\\\risk_2.gdb\\\\attacks_GoG_2_XYTableToPoint1\",\"GoG_ACountCC7\",\"JOIN_ONE_TO_ONE\",\"KEEP_ALL\",\"\",\"COMPLETELY_CONTAINS\")\n",
    "\n",
    "\n",
    "### Attack density with several ips...\n",
    "# add attack density = 0 field. then sum (kinda like iteratively)\n",
    "\n",
    "# DIVIDE -- attacks/deg (deg^-1)\n",
    "arcpy.AddField_management('GoG_ACountCC3', \"attack_dens\", \"FLOAT\",\"\",\"5\",\"\",\"\",\"NULLABLE\",\"REQUIRED\", \"\")\n",
    "arcpy.CalculateField_management(\"GoG_ACountCC3\",\"attack_dens\", \"!Join_Count!/(!SA_3!)\", 'PYTHON3')"
   ]
  },
  {
   "cell_type": "code",
   "execution_count": null,
   "metadata": {},
   "outputs": [],
   "source": [
    "# Line density....?"
   ]
  },
  {
   "cell_type": "code",
   "execution_count": null,
   "metadata": {},
   "outputs": [],
   "source": []
  },
  {
   "cell_type": "code",
   "execution_count": null,
   "metadata": {},
   "outputs": [],
   "source": []
  },
  {
   "cell_type": "code",
   "execution_count": null,
   "metadata": {},
   "outputs": [],
   "source": []
  },
  {
   "cell_type": "code",
   "execution_count": null,
   "metadata": {},
   "outputs": [],
   "source": []
  },
  {
   "cell_type": "code",
   "execution_count": null,
   "metadata": {},
   "outputs": [],
   "source": []
  },
  {
   "cell_type": "code",
   "execution_count": null,
   "metadata": {},
   "outputs": [],
   "source": []
  },
  {
   "cell_type": "code",
   "execution_count": null,
   "metadata": {},
   "outputs": [],
   "source": []
  }
 ],
 "metadata": {
  "kernelspec": {
   "display_name": "Python 3",
   "language": "python",
   "name": "python3"
  },
  "language_info": {
   "codemirror_mode": {
    "name": "ipython",
    "version": 3
   },
   "file_extension": ".py",
   "mimetype": "text/x-python",
   "name": "python",
   "nbconvert_exporter": "python",
   "pygments_lexer": "ipython3",
   "version": "3.6.5"
  }
 },
 "nbformat": 4,
 "nbformat_minor": 2
}
