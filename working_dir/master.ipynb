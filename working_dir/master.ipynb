{
 "cells": [
  {
   "cell_type": "code",
   "execution_count": null,
   "metadata": {},
   "outputs": [],
   "source": [
    "# -------------------------------------\n",
    "# Master script for Maritime Risk Model\n",
    "#\n",
    "#         Ryan Lloyd\n",
    "#         22/10/2018\n",
    "# -------------------------------------\n",
    "\n",
    "# ------- USAGE --------\n",
    "#\n",
    "# 1. Requires list of AIS data and incidents\n",
    "# 2. Requires some static model parameters\n",
    "#\n",
    "# ----------------------"
   ]
  },
  {
   "cell_type": "code",
   "execution_count": 68,
   "metadata": {},
   "outputs": [],
   "source": [
    "# Load environments\n",
    "import os\n",
    "import sys\n",
    "import arcgis\n",
    "import arcpy\n",
    "import pandas\n",
    "import geopandas\n",
    "import csv\n",
    "import numpy\n",
    "import matplotlib\n",
    "import matplotlib.pyplot\n",
    "import pylab\n",
    "import glob\n",
    "import zipfile\n",
    "from arcpy.sa import *\n",
    "from importlib import reload"
   ]
  },
  {
   "cell_type": "code",
   "execution_count": 123,
   "metadata": {},
   "outputs": [],
   "source": [
    "# Input files\n",
    "AIS123_root= r\"C:/Users/Geollect/Documents/ArcGIS/Projects/risk_model/risk_data/AIS_123/\" # OS SPECIFIC \"/\"\n",
    "AIS005_root= r\"C:/Users/Geollect/Documents/ArcGIS/Projects/risk_model/risk_data/AIS_005/\" # OS SPECIFIC\n",
    "incidents_root= r\"C:/Users/Geollect/Documents/ArcGIS/Projects/risk_model/risk_data/incidents/\" # OS SPECIFIC\n",
    "AIS123_file = \"files_123.txt\"\n",
    "AIS005_file = \"files_005.txt\"\n",
    "incidents_file = \"incidents.txt\"\n",
    "\n",
    "FileGDB_path = \"c:/Users/Geollect/Documents/ArcGIS/Projects/risk_model/working_dir/\"\n",
    "FileGDB_name = \"risk_model.gdb\""
   ]
  },
  {
   "cell_type": "code",
   "execution_count": null,
   "metadata": {},
   "outputs": [],
   "source": [
    "# Variables (FN size etc)\n",
    "\n",
    "# fishnet_lims = []\n",
    "# fishnet_extent = "
   ]
  },
  {
   "cell_type": "code",
   "execution_count": 3,
   "metadata": {},
   "outputs": [],
   "source": [
    "# ------ DO NOT EDIT BELOW HERE ----------"
   ]
  },
  {
   "cell_type": "code",
   "execution_count": 28,
   "metadata": {},
   "outputs": [],
   "source": [
    "# Add folder of python modules:\n",
    "sys.path.append(r\"C:/Users/Geollect/Documents/ArcGIS/Projects/risk_model/risk_functions/\")"
   ]
  },
  {
   "cell_type": "code",
   "execution_count": 235,
   "metadata": {},
   "outputs": [
    {
     "data": {
      "text/plain": [
       "<module 'load_data' from 'C:/Users/Geollect/Documents/ArcGIS/Projects/risk_model/risk_functions\\\\load_data.py'>"
      ]
     },
     "execution_count": 235,
     "metadata": {},
     "output_type": "execute_result"
    }
   ],
   "source": [
    "import load_data\n",
    "importlib.reload(load_data)"
   ]
  },
  {
   "cell_type": "code",
   "execution_count": 236,
   "metadata": {},
   "outputs": [],
   "source": [
    "# Load local modules\n",
    "from load_data import loadais, loadincidents, csv2dict\n",
    "from create_FileGDB import creategdb"
   ]
  },
  {
   "cell_type": "code",
   "execution_count": 221,
   "metadata": {},
   "outputs": [
    {
     "name": "stdout",
     "output_type": "stream",
     "text": [
      "FileGDB already exists\n"
     ]
    }
   ],
   "source": [
    "# Set up FileGDB\n",
    "creategdb(FileGDB_path, FileGDB_name)\n",
    "arcpy.env.workspace = FileGDB_path + FileGDB_name"
   ]
  },
  {
   "cell_type": "code",
   "execution_count": 237,
   "metadata": {},
   "outputs": [],
   "source": [
    "# Load in the AIS and incidents\n",
    "\n",
    "AIS123 = csv2dict(AIS123_root, AIS123_file)\n",
    "#AIS005 = csv2dict(AIS005_root, AIS005_file)\n",
    "#incidents = csv2dict(incidents_root,incidents_file)\n",
    "\n",
    "#loadais(AIS123_root, AIS123_file)\n",
    "#loadais(AIS005_root, AIS005_file)\n",
    "#loadincidents(incidents_root,incidents_file)"
   ]
  },
  {
   "cell_type": "code",
   "execution_count": 4,
   "metadata": {},
   "outputs": [],
   "source": [
    "# Relate 123 & 5 - LATER"
   ]
  },
  {
   "cell_type": "code",
   "execution_count": 233,
   "metadata": {},
   "outputs": [
    {
     "name": "stdout",
     "output_type": "stream",
     "text": [
      "{'GoG123_20170201.csv':                      ISODate  Message Type  Repeat Indicator       MMSI  \\\n",
      "0       2017-02-01T00:00:01Z             1                 0  375069000   \n",
      "1       2017-02-01T00:00:01Z             1                 0  657135000   \n",
      "2       2017-02-01T00:00:02Z             3                 0  657125000   \n",
      "3       2017-02-01T00:00:02Z             1                 0  253477000   \n",
      "4       2017-02-01T00:00:03Z             1                 0  657122100   \n",
      "5       2017-02-01T00:00:04Z             1                 1  355885000   \n",
      "6       2017-02-01T00:00:05Z             1                 0  657122900   \n",
      "7       2017-02-01T00:00:05Z             1                 0  375162000   \n",
      "8       2017-02-01T00:00:06Z             1                 0  576667000   \n",
      "9       2017-02-01T00:00:08Z             3                 0  356726000   \n",
      "10      2017-02-01T00:00:08Z             1                 1  227341860   \n",
      "11      2017-02-01T00:00:10Z             1                 0  636017285   \n",
      "12      2017-02-01T00:00:10Z             1                 0  253399000   \n",
      "13      2017-02-01T00:00:10Z             1                 0  657120900   \n",
      "14      2017-02-01T00:00:10Z             1                 1  533913000   \n",
      "15      2017-02-01T00:00:11Z             1                 0  631831000   \n",
      "16      2017-02-01T00:00:11Z             1                 0  657413000   \n",
      "17      2017-02-01T00:00:12Z             1                 0  657124100   \n",
      "18      2017-02-01T00:00:15Z             1                 0  577325000   \n",
      "19      2017-02-01T00:00:17Z             1                 0  657010000   \n",
      "20      2017-02-01T00:00:17Z             3                 0  376496000   \n",
      "21      2017-02-01T00:00:17Z             1                 0  373686000   \n",
      "22      2017-02-01T00:00:17Z             1                 0  657907000   \n",
      "23      2017-02-01T00:00:18Z             1                 1  357183000   \n",
      "24      2017-02-01T00:00:20Z             1                 0  657135000   \n",
      "25      2017-02-01T00:00:21Z             1                 0  375332000   \n",
      "26      2017-02-01T00:00:21Z             1                 0  657929000   \n",
      "27      2017-02-01T00:00:22Z             1                 0  657116900   \n",
      "28      2017-02-01T00:00:22Z             1                 0  235090339   \n",
      "29      2017-02-01T00:00:22Z             1                 0  253477000   \n",
      "...                      ...           ...               ...        ...   \n",
      "212969  2017-02-01T23:48:58Z             1                 0  253323000   \n",
      "212970  2017-02-01T23:48:58Z             1                 0  538006768   \n",
      "212971  2017-02-01T23:48:58Z             1                 0  627047000   \n",
      "212972  2017-02-01T23:48:58Z             1                 0  228062600   \n",
      "212973  2017-02-01T23:48:58Z             1                 0  576667000   \n",
      "212974  2017-02-01T23:48:58Z             1                 0  352289000   \n",
      "212975  2017-02-01T23:48:58Z             1                 0  657270000   \n",
      "212976  2017-02-01T23:48:58Z             1                 0  657011000   \n",
      "212977  2017-02-01T23:48:59Z             1                 0  377264000   \n",
      "212978  2017-02-01T23:48:59Z             1                 0  375488000   \n",
      "212979  2017-02-01T23:48:59Z             1                 0  228016700   \n",
      "212980  2017-02-01T23:48:59Z             1                 0  636016102   \n",
      "212981  2017-02-01T23:48:59Z             1                 0  657899000   \n",
      "212982  2017-02-01T23:49:00Z             1                 0  576232000   \n",
      "212983  2017-02-01T23:49:00Z             1                 0  671429000   \n",
      "212984  2017-02-01T23:49:00Z             1                 0  538003630   \n",
      "212985  2017-02-01T23:49:00Z             1                 0  671403000   \n",
      "212986  2017-02-01T23:49:00Z             1                 0  636016789   \n",
      "212987  2017-02-01T23:49:00Z             1                 0  657116100   \n",
      "212988  2017-02-01T23:49:00Z             1                 0  620143000   \n",
      "212989  2017-02-01T23:49:00Z             1                 0  657123700   \n",
      "212990  2017-02-01T23:49:00Z             1                 0  375046000   \n",
      "212991  2017-02-01T23:49:00Z             1                 0  205622000   \n",
      "212992  2017-02-01T23:49:00Z             1                 0  564921000   \n",
      "212993  2017-02-01T23:49:00Z             1                 0  657011003   \n",
      "212994  2017-02-01T23:49:00Z             1                 0  355289000   \n",
      "212995  2017-02-01T23:49:00Z             1                 0  352349000   \n",
      "212996  2017-02-01T23:49:26Z             1                 0  657112500   \n",
      "212997  2017-02-01T23:51:17Z             1                 0  259472000   \n",
      "212998  2017-02-01T23:56:58Z             1                 0  371411000   \n",
      "\n",
      "        objectID            Navigation Status                 ROT   SOG  \\\n",
      "0            NaN       Under way using engine                 NaN   6.1   \n",
      "1            NaN       Under way using engine                 0.0   0.1   \n",
      "2            NaN       Under way using engine                 0.0   0.0   \n",
      "3            NaN  Restricted manoeuverability                 0.0   0.0   \n",
      "4            NaN       Under way using engine                 0.0   0.0   \n",
      "5            NaN       Under way using engine                 NaN   0.0   \n",
      "6            NaN       Under way using engine                 0.0   0.5   \n",
      "7            NaN                  Not defined                 NaN   0.0   \n",
      "8            NaN       Under way using engine                 0.0   0.0   \n",
      "9            NaN                    At anchor                 0.0   0.0   \n",
      "10           NaN       Under way using engine                 NaN   0.1   \n",
      "11           NaN       Under way using engine                 NaN   0.1   \n",
      "12           NaN       Under way using engine                 0.0   0.0   \n",
      "13           NaN       Under way using engine                 NaN   4.6   \n",
      "14           NaN       Under way using engine                 0.0   1.6   \n",
      "15           NaN       Under way using engine                 NaN   0.0   \n",
      "16           NaN                  Not defined                 NaN   0.0   \n",
      "17           NaN       Under way using engine  2.8569784533381095   1.9   \n",
      "18           NaN       Under way using engine           fastright  10.2   \n",
      "19           NaN  Restricted manoeuverability                 NaN   0.1   \n",
      "20           NaN            Under way sailing                 NaN   8.5   \n",
      "21           NaN            Under way sailing           fastright   3.6   \n",
      "22           NaN       Under way using engine                 NaN   1.1   \n",
      "23           NaN                  Not defined                 0.0   0.0   \n",
      "24           NaN       Under way using engine                 0.0   0.1   \n",
      "25           NaN             Reserved for WIG                 0.0   8.6   \n",
      "26           NaN       Under way using engine                 0.0   0.0   \n",
      "27           NaN                  Not defined                 0.0   0.8   \n",
      "28           NaN       Under way using engine                 0.0   0.5   \n",
      "29           NaN  Restricted manoeuverability                 0.0   0.0   \n",
      "...          ...                          ...                 ...   ...   \n",
      "212969       NaN       Under way using engine                 0.0   0.0   \n",
      "212970       NaN       Under way using engine                 0.0   0.3   \n",
      "212971       NaN       Under way using engine                 0.0   0.7   \n",
      "212972       NaN       Under way using engine  125.39456992854296   4.5   \n",
      "212973       NaN       Under way using engine                 0.0   0.0   \n",
      "212974       NaN                  Not defined                 NaN   0.6   \n",
      "212975       NaN       Under way using engine                 NaN   0.0   \n",
      "212976       NaN                  Not defined                 NaN   0.0   \n",
      "212977       NaN       Under way using engine                 NaN   0.0   \n",
      "212978       NaN       Under way using engine                 NaN   0.0   \n",
      "212979       NaN                    At anchor                 0.0   0.0   \n",
      "212980       NaN                    At anchor                 0.0   NaN   \n",
      "212981       NaN  Restricted manoeuverability                 NaN   0.0   \n",
      "212982       NaN       Under way using engine                 0.0   0.0   \n",
      "212983       NaN            Under way sailing                 NaN   0.0   \n",
      "212984       NaN       Under way using engine                 0.0   0.0   \n",
      "212985       NaN       Under way using engine                 NaN   0.3   \n",
      "212986       NaN       Under way using engine                 0.0   0.5   \n",
      "212987       NaN            Under way sailing                 NaN   0.3   \n",
      "212988       NaN                  Not defined                 NaN   0.4   \n",
      "212989       NaN       Under way using engine                 NaN   0.0   \n",
      "212990       NaN       Under way using engine                 NaN   0.0   \n",
      "212991       NaN  Restricted manoeuverability                 0.0   0.0   \n",
      "212992       NaN       Under way using engine                 NaN   0.0   \n",
      "212993       NaN       Under way using engine                 NaN   0.0   \n",
      "212994       NaN       Under way using engine                 0.0  16.5   \n",
      "212995       NaN       Under way using engine                 0.0   0.0   \n",
      "212996       NaN  Restricted manoeuverability                 0.0   1.0   \n",
      "212997       NaN            Under way sailing                 0.0   1.2   \n",
      "212998       NaN                    At anchor                 0.0   0.3   \n",
      "\n",
      "        Position Accuracy  Longitude  Latitude    COG    HDG Time Stamp  \\\n",
      "0                       0   8.088187  4.055142  209.7  206.0         59   \n",
      "1                       0   7.157485  4.695683  175.8   59.0          2   \n",
      "2                       0   7.043543  4.750585  309.8   88.0          3   \n",
      "3                       0   7.043700  4.749283  305.1  237.0          3   \n",
      "4                       0   7.157120  4.695907  285.6  151.0          5   \n",
      "5                       0   8.772267 -0.684567  296.4    NaN          6   \n",
      "6                       0   6.801787  3.021453   63.4  137.0          6   \n",
      "7                       1   5.720798  5.512543    0.0    NaN          6   \n",
      "8                       0   9.671393  4.013245   52.8  326.0          8   \n",
      "9                       0   9.518950  3.883550   46.0   70.0          8   \n",
      "10                      1   8.794100 -0.724700  319.3    NaN          9   \n",
      "11                      0   1.239667  6.004000  350.0  102.0         10   \n",
      "12                      1   3.993683  6.421717   26.2  231.0         10   \n",
      "13                      1   8.092643  4.203103  176.5    NaN         10   \n",
      "14                      0   8.718817 -0.631767   82.0   63.0         10   \n",
      "15                      0   9.740505  1.831127    0.0    NaN         11   \n",
      "16                      0   7.827010  4.409902    0.0    NaN         11   \n",
      "17                      1   4.878787  5.817588   28.7   22.0         14   \n",
      "18                      0   9.825167 -2.802667  315.6  315.0         17   \n",
      "19                      0   3.373568  6.449650   87.5    NaN         17   \n",
      "20                      1   8.005853  4.421050  178.0  179.0         14   \n",
      "21                      0   8.721867 -0.630390   38.6   54.0         19   \n",
      "22                      1   6.418522  3.947307   72.6    NaN         18   \n",
      "23                      0   8.818210 -0.672142  347.9  205.0         19   \n",
      "24                      0   7.157455  4.695678  170.6   59.0         22   \n",
      "25                      0   8.013962  4.349298  240.2  242.0         18   \n",
      "26                      1   7.159330  4.683620  290.7  168.0         23   \n",
      "27                      0   5.300362  5.262687   64.7  312.0          2   \n",
      "28                      1   3.993753  6.419710  273.1  243.0         24   \n",
      "29                      0   7.043700  4.749283  335.9  237.0         23   \n",
      "...                   ...        ...       ...    ...    ...        ...   \n",
      "212969                  0   8.794355 -0.725778  215.3  233.0         58   \n",
      "212970                  0   3.369658  6.321757   70.0  248.0         58   \n",
      "212971                  0  -1.708637  4.880293   47.4  194.0         58   \n",
      "212972                  0   8.664952 -0.738993  351.8  339.0         58   \n",
      "212973                  0   9.671370  4.013257   52.8  327.0         58   \n",
      "212974                  0   8.795275 -0.727428  295.3    NaN         58   \n",
      "212975                  0   5.778273  5.489238  183.0    NaN         58   \n",
      "212976                  0   3.374157  6.448877  360.0    NaN         58   \n",
      "212977                  0   5.697885  5.535613    0.0    NaN         59   \n",
      "212978                  0  -4.025015  5.302833   20.1    NaN         59   \n",
      "212979                  0   7.159533  4.673977   91.0  195.0         59   \n",
      "212980                  0   3.396275  6.355223  360.0  249.0         59   \n",
      "212981                  0   7.076505  4.725955  203.8    NaN         59   \n",
      "212982                  0   7.174050  4.694133  333.0   57.0          0   \n",
      "212983                  0   1.216333  6.063000  119.0    NaN          0   \n",
      "212984                  0   1.285483  6.023817  123.0  215.0          0   \n",
      "212985                  0   1.205920  6.081413  144.9    NaN          0   \n",
      "212986                  0   1.232350  6.050922   35.1  229.0          0   \n",
      "212987                  0   1.249678  6.017510   19.9    NaN          0   \n",
      "212988                  0   1.264925  6.046118   18.6    NaN          0   \n",
      "212989                  0   3.380190  6.366872    0.0    NaN          0   \n",
      "212990                  0   3.393103  6.434358  189.7    NaN          0   \n",
      "212991                  0   3.391787  6.428045  186.0  186.0          0   \n",
      "212992                  0   7.159240  4.682147   22.5    NaN          0   \n",
      "212993                  0   3.374263  6.448918   50.4    NaN          0   \n",
      "212994                  0   0.442500  5.525167  282.0  282.0          0   \n",
      "212995                  0   1.282167  6.141017   56.0  310.0          0   \n",
      "212996                  0   8.052760  4.268850  241.8  242.0         26   \n",
      "212997                  0   8.093162  4.104937  204.3  216.0         17   \n",
      "212998                  0   3.348245  6.386648  242.8  242.0         58   \n",
      "\n",
      "        Maneuver Indicator  Spare  RAIM Sub Message AIS Channel  \n",
      "0                        0      0     0      0-3-25           B  \n",
      "1                        0      0     0       0-1-0           B  \n",
      "2                        0      0     0      0-0-99           B  \n",
      "3                        0      0     0     0-4-144           B  \n",
      "4                        0      0     0      0-3-75           B  \n",
      "5                        0      0     0       0-0-0           B  \n",
      "6                        0      0     0       0-1-0           B  \n",
      "7                        0      0     1     0-2-262           B  \n",
      "8                        0      0     0      0-3-42           B  \n",
      "9                        0      0     0       0-0-0           B  \n",
      "10                       0      0     1       0-0-0           B  \n",
      "11                       0      0     0     0-2-416           B  \n",
      "12                       0      0     1       0-7-3           B  \n",
      "13                       0      0     1     0-6-505           B  \n",
      "14                       0      0     0       0-0-0           B  \n",
      "15                       0      0     0     0-2-467           B  \n",
      "16                       0      0     0     0-6-493           B  \n",
      "17                       0      0     0     0-4-537           B  \n",
      "18                       0      0     0       0-1-0           B  \n",
      "19                       0      0     0     0-6-674           B  \n",
      "20                       0      0     0    0-0-3953           B  \n",
      "21                       0      0     0      0-5-15           B  \n",
      "22                       0      0     1       0-1-0           B  \n",
      "23                       0      0     1       0-0-0           B  \n",
      "24                       0      0     0     0-2-811           B  \n",
      "25                       0      0     0    0-0-2243           B  \n",
      "26                       0      0     1     0-6-841           B  \n",
      "27                       0      0     0      1-3-18           B  \n",
      "28                       0      0     1       0-1-0           B  \n",
      "29                       0      0     0      0-3-73           B  \n",
      "...                    ...    ...   ...         ...         ...  \n",
      "212969                   0      0     0       0-0-0           A  \n",
      "212970                   0      0     0       0-0-0           A  \n",
      "212971                   0      0     0       0-0-0           A  \n",
      "212972                   0      0     0       0-0-0           A  \n",
      "212973                   0      0     0       0-0-0           A  \n",
      "212974                   0      0     0       0-0-0           A  \n",
      "212975                   0      0     0       0-0-0           A  \n",
      "212976                   0      0     0       0-0-0           A  \n",
      "212977                   0      0     0       0-0-0           A  \n",
      "212978                   0      0     0       0-0-0           A  \n",
      "212979                   0      0     0       0-0-0           A  \n",
      "212980                   0      0     0       0-0-0           A  \n",
      "212981                   0      0     0       0-0-0           A  \n",
      "212982                   0      0     0       0-0-0           A  \n",
      "212983                   0      0     0       0-0-0           A  \n",
      "212984                   0      0     0       0-0-0           A  \n",
      "212985                   0      0     0       0-0-0           A  \n",
      "212986                   0      0     0       0-0-0           A  \n",
      "212987                   0      0     0       0-0-0           A  \n",
      "212988                   0      0     0       0-0-0           A  \n",
      "212989                   0      0     0       0-0-0           A  \n",
      "212990                   0      0     0       0-0-0           A  \n",
      "212991                   0      0     0       0-0-0           A  \n",
      "212992                   0      0     0       0-0-0           A  \n",
      "212993                   0      0     0       0-0-0           A  \n",
      "212994                   0      0     0       0-0-0           A  \n",
      "212995                   0      0     0       0-0-0           A  \n",
      "212996                   0      0     0       0-0-0           A  \n",
      "212997                   0      0     0       0-0-0           A  \n",
      "212998                   0      0     0       0-0-0           A  \n",
      "\n",
      "[212999 rows x 19 columns]}\n"
     ]
    }
   ],
   "source": [
    "print(AIS123.get(\"GoG123_20170201.csv\", \"none\"))"
   ]
  },
  {
   "cell_type": "code",
   "execution_count": 234,
   "metadata": {},
   "outputs": [
    {
     "ename": "RuntimeError",
     "evalue": "Object: Error in executing tool",
     "output_type": "error",
     "traceback": [
      "\u001b[1;31m---------------------------------------------------------------------------\u001b[0m",
      "\u001b[1;31mRuntimeError\u001b[0m                              Traceback (most recent call last)",
      "\u001b[1;32m<ipython-input-234-83733fc1b88e>\u001b[0m in \u001b[0;36m<module>\u001b[1;34m()\u001b[0m\n\u001b[1;32m----> 1\u001b[1;33m \u001b[0marcpy\u001b[0m\u001b[1;33m.\u001b[0m\u001b[0mmanagement\u001b[0m\u001b[1;33m.\u001b[0m\u001b[0mXYTableToPoint\u001b[0m\u001b[1;33m(\u001b[0m\u001b[0mAIS123\u001b[0m\u001b[1;33m.\u001b[0m\u001b[0mget\u001b[0m\u001b[1;33m(\u001b[0m\u001b[1;34m\"GoG123_20170201.csv\"\u001b[0m\u001b[1;33m)\u001b[0m\u001b[1;33m,\u001b[0m\u001b[1;34m\"TEST.shp\"\u001b[0m\u001b[1;33m,\u001b[0m\u001b[1;34m\"Longitude\"\u001b[0m\u001b[1;33m,\u001b[0m\u001b[1;34m\"Latitude\"\u001b[0m\u001b[1;33m)\u001b[0m\u001b[1;33m\u001b[0m\u001b[0m\n\u001b[0m",
      "\u001b[1;32mC:\\Program Files\\ArcGIS\\Pro\\Resources\\ArcPy\\arcpy\\management.py\u001b[0m in \u001b[0;36mXYTableToPoint\u001b[1;34m(in_table, out_feature_class, x_field, y_field, z_field, coordinate_system)\u001b[0m\n\u001b[0;32m   3128\u001b[0m         \u001b[1;32mreturn\u001b[0m \u001b[0mretval\u001b[0m\u001b[1;33m\u001b[0m\u001b[0m\n\u001b[0;32m   3129\u001b[0m     \u001b[1;32mexcept\u001b[0m \u001b[0mException\u001b[0m \u001b[1;32mas\u001b[0m \u001b[0me\u001b[0m\u001b[1;33m:\u001b[0m\u001b[1;33m\u001b[0m\u001b[0m\n\u001b[1;32m-> 3130\u001b[1;33m         \u001b[1;32mraise\u001b[0m \u001b[0me\u001b[0m\u001b[1;33m\u001b[0m\u001b[0m\n\u001b[0m\u001b[0;32m   3131\u001b[0m \u001b[1;33m\u001b[0m\u001b[0m\n\u001b[0;32m   3132\u001b[0m \u001b[1;33m@\u001b[0m\u001b[0mgptooldoc\u001b[0m\u001b[1;33m(\u001b[0m\u001b[1;34m'XYToLine_management'\u001b[0m\u001b[1;33m,\u001b[0m \u001b[1;32mNone\u001b[0m\u001b[1;33m)\u001b[0m\u001b[1;33m\u001b[0m\u001b[0m\n",
      "\u001b[1;32mC:\\Program Files\\ArcGIS\\Pro\\Resources\\ArcPy\\arcpy\\management.py\u001b[0m in \u001b[0;36mXYTableToPoint\u001b[1;34m(in_table, out_feature_class, x_field, y_field, z_field, coordinate_system)\u001b[0m\n\u001b[0;32m   3125\u001b[0m     \u001b[1;32mfrom\u001b[0m \u001b[0marcpy\u001b[0m\u001b[1;33m.\u001b[0m\u001b[0marcobjects\u001b[0m\u001b[1;33m.\u001b[0m\u001b[0marcobjectconversion\u001b[0m \u001b[1;32mimport\u001b[0m \u001b[0mconvertArcObjectToPythonObject\u001b[0m\u001b[1;33m\u001b[0m\u001b[0m\n\u001b[0;32m   3126\u001b[0m     \u001b[1;32mtry\u001b[0m\u001b[1;33m:\u001b[0m\u001b[1;33m\u001b[0m\u001b[0m\n\u001b[1;32m-> 3127\u001b[1;33m         \u001b[0mretval\u001b[0m \u001b[1;33m=\u001b[0m \u001b[0mconvertArcObjectToPythonObject\u001b[0m\u001b[1;33m(\u001b[0m\u001b[0mgp\u001b[0m\u001b[1;33m.\u001b[0m\u001b[0mXYTableToPoint_management\u001b[0m\u001b[1;33m(\u001b[0m\u001b[1;33m*\u001b[0m\u001b[0mgp_fixargs\u001b[0m\u001b[1;33m(\u001b[0m\u001b[1;33m(\u001b[0m\u001b[0min_table\u001b[0m\u001b[1;33m,\u001b[0m \u001b[0mout_feature_class\u001b[0m\u001b[1;33m,\u001b[0m \u001b[0mx_field\u001b[0m\u001b[1;33m,\u001b[0m \u001b[0my_field\u001b[0m\u001b[1;33m,\u001b[0m \u001b[0mz_field\u001b[0m\u001b[1;33m,\u001b[0m \u001b[0mcoordinate_system\u001b[0m\u001b[1;33m)\u001b[0m\u001b[1;33m,\u001b[0m \u001b[1;32mTrue\u001b[0m\u001b[1;33m)\u001b[0m\u001b[1;33m)\u001b[0m\u001b[1;33m)\u001b[0m\u001b[1;33m\u001b[0m\u001b[0m\n\u001b[0m\u001b[0;32m   3128\u001b[0m         \u001b[1;32mreturn\u001b[0m \u001b[0mretval\u001b[0m\u001b[1;33m\u001b[0m\u001b[0m\n\u001b[0;32m   3129\u001b[0m     \u001b[1;32mexcept\u001b[0m \u001b[0mException\u001b[0m \u001b[1;32mas\u001b[0m \u001b[0me\u001b[0m\u001b[1;33m:\u001b[0m\u001b[1;33m\u001b[0m\u001b[0m\n",
      "\u001b[1;32mC:\\Program Files\\ArcGIS\\Pro\\Resources\\ArcPy\\arcpy\\geoprocessing\\_base.py\u001b[0m in \u001b[0;36m<lambda>\u001b[1;34m(*args)\u001b[0m\n\u001b[0;32m    494\u001b[0m         \u001b[0mval\u001b[0m \u001b[1;33m=\u001b[0m \u001b[0mgetattr\u001b[0m\u001b[1;33m(\u001b[0m\u001b[0mself\u001b[0m\u001b[1;33m.\u001b[0m\u001b[0m_gp\u001b[0m\u001b[1;33m,\u001b[0m \u001b[0mattr\u001b[0m\u001b[1;33m)\u001b[0m\u001b[1;33m\u001b[0m\u001b[0m\n\u001b[0;32m    495\u001b[0m         \u001b[1;32mif\u001b[0m \u001b[0mcallable\u001b[0m\u001b[1;33m(\u001b[0m\u001b[0mval\u001b[0m\u001b[1;33m)\u001b[0m\u001b[1;33m:\u001b[0m\u001b[1;33m\u001b[0m\u001b[0m\n\u001b[1;32m--> 496\u001b[1;33m             \u001b[1;32mreturn\u001b[0m \u001b[1;32mlambda\u001b[0m \u001b[1;33m*\u001b[0m\u001b[0margs\u001b[0m\u001b[1;33m:\u001b[0m \u001b[0mval\u001b[0m\u001b[1;33m(\u001b[0m\u001b[1;33m*\u001b[0m\u001b[0mgp_fixargs\u001b[0m\u001b[1;33m(\u001b[0m\u001b[0margs\u001b[0m\u001b[1;33m,\u001b[0m \u001b[1;32mTrue\u001b[0m\u001b[1;33m)\u001b[0m\u001b[1;33m)\u001b[0m\u001b[1;33m\u001b[0m\u001b[0m\n\u001b[0m\u001b[0;32m    497\u001b[0m         \u001b[1;32melse\u001b[0m\u001b[1;33m:\u001b[0m\u001b[1;33m\u001b[0m\u001b[0m\n\u001b[0;32m    498\u001b[0m             \u001b[1;32mreturn\u001b[0m \u001b[0mconvertArcObjectToPythonObject\u001b[0m\u001b[1;33m(\u001b[0m\u001b[0mval\u001b[0m\u001b[1;33m)\u001b[0m\u001b[1;33m\u001b[0m\u001b[0m\n",
      "\u001b[1;31mRuntimeError\u001b[0m: Object: Error in executing tool"
     ]
    }
   ],
   "source": [
    "arcpy.management.XYTableToPoint(AIS123.get(\"GoG123_20170201.csv\"),\"TEST.shp\",\"Longitude\",\"Latitude\")"
   ]
  },
  {
   "cell_type": "code",
   "execution_count": null,
   "metadata": {},
   "outputs": [],
   "source": [
    "# AIS TO TRAFFIC DENSITY\n",
    "## --- Select arttibutes method ---\n",
    "\n",
    "def ais2traffic(datafile_list)\n",
    "# CREATE POINTS\n",
    "    for d in data_list\n",
    "        arcpy.management.XYTableToPoint(\"c:/Users/Geollect/Documents/ArcGIS/Projects/risk_2/geollect_gulfofguinea_msg18_feb2017.csv\",\"Feb17_18_5.shp\",\"Longitude\",\"Latitude\")\n",
    "        arcpy.FeatureClassToGeodatabase_conversion([\"1\",\"2\"],'c:/Users/Geollect/Documents/ArcGIS/Projects/risk_4/risk_model.gdb')\n",
    "      \n",
    "    \n",
    "    \n",
    "for O in op_from_above \n",
    " # Join points by MMSI, with increasing time\n",
    "        arcpy.PointsToLine_management(\"c:\\\\Users\\\\Geollect\\\\Documents\\\\ArcGIS\\\\Projects\\\\risk_4\\\\Feb17_18_5.shp\",\"Feb17_18_lines.shp\", \"MMSI\",\"ISODate\")\n",
    "\n",
    "\n",
    "# POINTS TO LINES"
   ]
  },
  {
   "cell_type": "code",
   "execution_count": null,
   "metadata": {},
   "outputs": [],
   "source": [
    "# Select attributes method"
   ]
  },
  {
   "cell_type": "code",
   "execution_count": null,
   "metadata": {},
   "outputs": [],
   "source": []
  },
  {
   "cell_type": "code",
   "execution_count": null,
   "metadata": {},
   "outputs": [],
   "source": []
  },
  {
   "cell_type": "code",
   "execution_count": null,
   "metadata": {},
   "outputs": [],
   "source": []
  },
  {
   "cell_type": "code",
   "execution_count": null,
   "metadata": {},
   "outputs": [],
   "source": []
  },
  {
   "cell_type": "code",
   "execution_count": null,
   "metadata": {},
   "outputs": [],
   "source": []
  },
  {
   "cell_type": "code",
   "execution_count": null,
   "metadata": {},
   "outputs": [],
   "source": []
  },
  {
   "cell_type": "code",
   "execution_count": null,
   "metadata": {},
   "outputs": [],
   "source": []
  },
  {
   "cell_type": "code",
   "execution_count": null,
   "metadata": {},
   "outputs": [],
   "source": []
  },
  {
   "cell_type": "code",
   "execution_count": null,
   "metadata": {},
   "outputs": [],
   "source": []
  }
 ],
 "metadata": {
  "kernelspec": {
   "display_name": "Python 3",
   "language": "python",
   "name": "python3"
  },
  "language_info": {
   "codemirror_mode": {
    "name": "ipython",
    "version": 3
   },
   "file_extension": ".py",
   "mimetype": "text/x-python",
   "name": "python",
   "nbconvert_exporter": "python",
   "pygments_lexer": "ipython3",
   "version": "3.6.5"
  }
 },
 "nbformat": 4,
 "nbformat_minor": 2
}
