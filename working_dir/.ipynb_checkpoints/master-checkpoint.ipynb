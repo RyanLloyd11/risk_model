{
 "cells": [
  {
   "cell_type": "code",
   "execution_count": null,
   "metadata": {},
   "outputs": [],
   "source": [
    "# -------------------------------------\n",
    "# Master script for Maritime Risk Model\n",
    "#\n",
    "#         Ryan Lloyd\n",
    "#         22/10/2018\n",
    "# -------------------------------------\n",
    "\n",
    "# ------- USAGE --------\n",
    "#\n",
    "# 1. Requires list of AIS data and incidents\n",
    "# 2. Requires some static model parameters\n",
    "#\n",
    "# ----------------------"
   ]
  },
  {
   "cell_type": "code",
   "execution_count": 1,
   "metadata": {},
   "outputs": [],
   "source": [
    "# Load environments\n",
    "import os\n",
    "import arcgis\n",
    "import arcpy\n",
    "import pandas\n",
    "import geopandas\n",
    "import csv\n",
    "import numpy\n",
    "import matplotlib\n",
    "import matplotlib.pyplot\n",
    "import pylab\n",
    "import glob\n",
    "import zipfile\n",
    "import dask\n",
    "from arcpy.sa import *\n",
    "import importlib"
   ]
  },
  {
   "cell_type": "code",
   "execution_count": 55,
   "metadata": {},
   "outputs": [
    {
     "data": {
      "text/plain": [
       "<module 'load_data' from 'C:/Users/Geollect/Documents/ArcGIS/Projects/risk_notebooks\\\\load_data.py'>"
      ]
     },
     "execution_count": 55,
     "metadata": {},
     "output_type": "execute_result"
    }
   ],
   "source": [
    "importlib.reload(load_data)"
   ]
  },
  {
   "cell_type": "code",
   "execution_count": 56,
   "metadata": {},
   "outputs": [],
   "source": [
    "# Load local modules\n",
    "from load_data import loadais,loadincidents"
   ]
  },
  {
   "cell_type": "code",
   "execution_count": 9,
   "metadata": {},
   "outputs": [],
   "source": [
    "# Set (data?) workspace:\n",
    "\n",
    "# -------\n",
    "\n",
    "# Add python scripts folder:\n",
    "import sys\n",
    "sys.path.append(r\"C:/Users/Geollect/Documents/ArcGIS/Projects/risk_notebooks/\")"
   ]
  },
  {
   "cell_type": "code",
   "execution_count": 481,
   "metadata": {},
   "outputs": [],
   "source": [
    "# ----------------------------------"
   ]
  },
  {
   "cell_type": "code",
   "execution_count": 10,
   "metadata": {},
   "outputs": [],
   "source": [
    "# Input files\n",
    "AIS123_root= r\"C:/Users/Geollect/Documents/ArcGIS/Projects/risk_data/AIS_123/\" # OS SPECIFIC \"/\"\n",
    "AIS005_root= r\"C:/Users/Geollect/Documents/ArcGIS/Projects/risk_data/AIS_005/\" # OS SPECIFIC\n",
    "incidents_root= r\"C:/Users/Geollect/Documents/ArcGIS/Projects/risk_data/incidents/\" # OS SPECIFIC\n",
    "AIS123_file = \"files_123.txt\"\n",
    "AIS005_file = \"files_005.txt\"\n",
    "incidents_file = \"incidents.txt\""
   ]
  },
  {
   "cell_type": "code",
   "execution_count": null,
   "metadata": {},
   "outputs": [],
   "source": [
    "# Variables (FN size etc)\n",
    "# fishnet_lims = []\n",
    "# fishnet_size = "
   ]
  },
  {
   "cell_type": "code",
   "execution_count": 3,
   "metadata": {},
   "outputs": [],
   "source": [
    "# --- DO NOT EDIT BELOW HERE ----------"
   ]
  },
  {
   "cell_type": "code",
   "execution_count": 57,
   "metadata": {},
   "outputs": [
    {
     "name": "stderr",
     "output_type": "stream",
     "text": [
      "b'Skipping line 10435: expected 23 fields, saw 35\\nSkipping line 37904: expected 23 fields, saw 35\\nSkipping line 71704: expected 23 fields, saw 36\\nSkipping line 79462: expected 23 fields, saw 35\\nSkipping line 141577: expected 23 fields, saw 35\\nSkipping line 145844: expected 23 fields, saw 35\\nSkipping line 154925: expected 23 fields, saw 35\\nSkipping line 268179: expected 23 fields, saw 35\\nSkipping line 271587: expected 23 fields, saw 35\\nSkipping line 405136: expected 23 fields, saw 36\\nSkipping line 471433: expected 23 fields, saw 35\\nSkipping line 471913: expected 23 fields, saw 35\\nSkipping line 513422: expected 23 fields, saw 35\\nSkipping line 539797: expected 23 fields, saw 35\\nSkipping line 541537: expected 23 fields, saw 35\\nSkipping line 637810: expected 23 fields, saw 35\\nSkipping line 643692: expected 23 fields, saw 36\\nSkipping line 701087: expected 23 fields, saw 35\\nSkipping line 729960: expected 23 fields, saw 35\\nSkipping line 733751: expected 23 fields, saw 35\\nSkipping line 777387: expected 23 fields, saw 36\\n'\n",
      "b'Skipping line 42153: expected 23 fields, saw 35\\nSkipping line 69532: expected 23 fields, saw 35\\nSkipping line 134004: expected 23 fields, saw 35\\nSkipping line 136087: expected 23 fields, saw 36\\nSkipping line 142925: expected 23 fields, saw 35\\nSkipping line 166341: expected 23 fields, saw 35\\nSkipping line 259822: expected 23 fields, saw 35\\nSkipping line 275176: expected 23 fields, saw 35\\nSkipping line 365066: expected 23 fields, saw 35\\nSkipping line 366065: expected 23 fields, saw 35\\nSkipping line 430924: expected 23 fields, saw 35\\nSkipping line 506370: expected 23 fields, saw 35\\nSkipping line 680455: expected 23 fields, saw 35\\nSkipping line 723141: expected 23 fields, saw 35\\nSkipping line 723967: expected 23 fields, saw 35\\n'\n",
      "b'Skipping line 66265: expected 23 fields, saw 35\\nSkipping line 67980: expected 23 fields, saw 35\\nSkipping line 102679: expected 23 fields, saw 35\\nSkipping line 127245: expected 23 fields, saw 35\\nSkipping line 141008: expected 23 fields, saw 35\\nSkipping line 185160: expected 23 fields, saw 35\\nSkipping line 223754: expected 23 fields, saw 35\\nSkipping line 262326: expected 23 fields, saw 35\\nSkipping line 291333: expected 23 fields, saw 35\\nSkipping line 294561: expected 23 fields, saw 35\\nSkipping line 324879: expected 23 fields, saw 35\\nSkipping line 331333: expected 23 fields, saw 35\\nSkipping line 358679: expected 23 fields, saw 35\\nSkipping line 422467: expected 23 fields, saw 35\\nSkipping line 423995: expected 23 fields, saw 35\\nSkipping line 549671: expected 23 fields, saw 35\\nSkipping line 560461: expected 23 fields, saw 35\\nSkipping line 705697: expected 23 fields, saw 35\\n'\n"
     ]
    }
   ],
   "source": [
    "# Load in the AIS and incidents\n",
    "loadais(AIS123_root, AIS123_file)\n",
    "loadais(AIS005_root, AIS005_file)\n",
    "loadincidents(incidents_root,incidents_file)"
   ]
  },
  {
   "cell_type": "code",
   "execution_count": 4,
   "metadata": {},
   "outputs": [],
   "source": [
    "# Relate 123 & 5\n",
    "# 5 - find unique entries?"
   ]
  },
  {
   "cell_type": "code",
   "execution_count": null,
   "metadata": {},
   "outputs": [],
   "source": [
    "# XY ips to points"
   ]
  },
  {
   "cell_type": "code",
   "execution_count": null,
   "metadata": {},
   "outputs": [],
   "source": [
    "# Select attributes method"
   ]
  }
 ],
 "metadata": {
  "kernelspec": {
   "display_name": "Python 3",
   "language": "python",
   "name": "python3"
  },
  "language_info": {
   "codemirror_mode": {
    "name": "ipython",
    "version": 3
   },
   "file_extension": ".py",
   "mimetype": "text/x-python",
   "name": "python",
   "nbconvert_exporter": "python",
   "pygments_lexer": "ipython3",
   "version": "3.6.5"
  }
 },
 "nbformat": 4,
 "nbformat_minor": 2
}
