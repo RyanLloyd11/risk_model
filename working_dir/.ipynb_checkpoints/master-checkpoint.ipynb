{
 "cells": [
  {
   "cell_type": "code",
   "execution_count": 39,
   "metadata": {},
   "outputs": [],
   "source": [
    "# -------------------------------------\n",
    "# Master script for Maritime Risk Model\n",
    "#\n",
    "#         Ryan Lloyd\n",
    "#         22/10/2018\n",
    "# -------------------------------------\n",
    "\n",
    "# ------- USAGE --------\n",
    "#\n",
    "# 1. Requires list of AIS data and incidents\n",
    "# 2. Requires some static model parameters\n",
    "#\n",
    "# ----------------------"
   ]
  },
  {
   "cell_type": "code",
   "execution_count": 40,
   "metadata": {},
   "outputs": [],
   "source": [
    "# Load environments\n",
    "import os\n",
    "import sys\n",
    "import arcgis\n",
    "import arcpy\n",
    "import pandas\n",
    "#import geopandas\n",
    "import csv\n",
    "import numpy\n",
    "import matplotlib\n",
    "import matplotlib.pyplot\n",
    "import pylab\n",
    "import glob\n",
    "import zipfile\n",
    "from arcpy.sa import *\n",
    "from importlib import reload"
   ]
  },
  {
   "cell_type": "code",
   "execution_count": 41,
   "metadata": {},
   "outputs": [],
   "source": [
    "# Input files\n",
    "AIS123_root= r\"C:/Users/Geollect/Documents/ArcGIS/Projects/risk_model/risk_data/AIS_123/\" # OS SPECIFIC \"/\"\n",
    "AIS005_root= r\"C:/Users/Geollect/Documents/ArcGIS/Projects/risk_model/risk_data/AIS_005/\" # OS SPECIFIC\n",
    "incidents_root= r\"C:/Users/Geollect/Documents/ArcGIS/Projects/risk_model/risk_data/incidents/\" # OS SPECIFIC\n",
    "AIS123_file = \"files_123.txt\"\n",
    "#AIS123_file = \"Feb05_2017.txt\"\n",
    "AIS005_file = \"files_005.txt\"\n",
    "incidents_file = \"incidents.txt\"\n",
    "continent_polygon = \"c:/Users/Geollect/Documents/ArcGIS/Projects/risk_model/risk_data/continents/World_Continents.lyrx\"\n",
    "\n",
    "FileGDB_path = \"c:/Users/Geollect/Documents/ArcGIS/Projects/risk_model/working_dir/\"\n",
    "FileGDB_name = \"risk_model_5-7.gdb\""
   ]
  },
  {
   "cell_type": "code",
   "execution_count": null,
   "metadata": {},
   "outputs": [],
   "source": [
    "# NEW GDBs for each cell shape? Incorporate into name?\n",
    "# If auto name = true, else "
   ]
  },
  {
   "cell_type": "code",
   "execution_count": 59,
   "metadata": {
    "scrolled": true
   },
   "outputs": [],
   "source": [
    "# Variables (FN size etc)\n",
    "\n",
    "spatial_ref = arcpy.SpatialReference(4326) #GC_WGS_1984 - 4326, WC - 3857\n",
    "AISjoin_field = \"MMSI\"\n",
    "AISjoin_order = \"ISODate\"\n",
    "grid_extent = [7, 10, -3, -7] # N,E,S,W\n",
    "SIZE  = 2500   # AREA (km^2) of grid\n",
    "SHAPE = \"SQUARE\" # Shape of grid cells"
   ]
  },
  {
   "cell_type": "code",
   "execution_count": 43,
   "metadata": {},
   "outputs": [],
   "source": [
    "# ------ DO NOT EDIT BELOW HERE ----------"
   ]
  },
  {
   "cell_type": "code",
   "execution_count": 44,
   "metadata": {},
   "outputs": [],
   "source": [
    "# Add folder of python modules:\n",
    "sys.path.append(r\"C:/Users/Geollect/Documents/ArcGIS/Projects/risk_model/risk_functions/\")"
   ]
  },
  {
   "cell_type": "code",
   "execution_count": 56,
   "metadata": {},
   "outputs": [
    {
     "data": {
      "text/plain": [
       "<module 'traffic' from 'C:/Users/Geollect/Documents/ArcGIS/Projects/risk_model/risk_functions\\\\traffic.py'>"
      ]
     },
     "execution_count": 56,
     "metadata": {},
     "output_type": "execute_result"
    }
   ],
   "source": [
    "import load_data\n",
    "import create_FileGDB\n",
    "import traffic\n",
    "import incidents\n",
    "import inc_frequency\n",
    "reload(inc_frequency)\n",
    "reload(incidents)\n",
    "reload(load_data)\n",
    "reload(create_FileGDB)\n",
    "reload(traffic)"
   ]
  },
  {
   "cell_type": "code",
   "execution_count": 57,
   "metadata": {},
   "outputs": [],
   "source": [
    "# Load local modules\n",
    "from load_data import csv2shp, loadais, loadincidents, csv2dict\n",
    "from create_FileGDB import creategdb\n",
    "from traffic import ais2traffic\n",
    "from create_grid import tes_grid\n",
    "from incidents import incident_density\n",
    "from traffic import traffic_density\n",
    "from inc_frequency import inc_freq"
   ]
  },
  {
   "cell_type": "code",
   "execution_count": 47,
   "metadata": {},
   "outputs": [
    {
     "name": "stdout",
     "output_type": "stream",
     "text": [
      "FileGDB already exists\n"
     ]
    }
   ],
   "source": [
    "# Set up FileGDB\n",
    "creategdb(FileGDB_path, FileGDB_name)\n",
    "arcpy.env.workspace = FileGDB_path + FileGDB_name"
   ]
  },
  {
   "cell_type": "code",
   "execution_count": 48,
   "metadata": {},
   "outputs": [],
   "source": [
    "# 0948"
   ]
  },
  {
   "cell_type": "code",
   "execution_count": 49,
   "metadata": {
    "scrolled": true
   },
   "outputs": [
    {
     "name": "stdout",
     "output_type": "stream",
     "text": [
      "csv files converted to points:\n",
      "incidents_050217.csv >> incidents_050217\n",
      "incidents_060217.csv >> incidents_060217\n",
      "incidents_070217.csv >> incidents_070217\n",
      "csv files converted to points:\n",
      "GoG123_20170205.csv >> GoG123_20170205\n",
      "GoG123_20170206.csv >> GoG123_20170206\n",
      "GoG123_20170207.csv >> GoG123_20170207\n"
     ]
    }
   ],
   "source": [
    "# Load in the AIS and incidents\n",
    "incidentspts = csv2shp(incidents_root,incidents_file,FileGDB_path,FileGDB_name)\n",
    "AIS123pts = csv2shp(AIS123_root, AIS123_file,FileGDB_path,FileGDB_name)"
   ]
  },
  {
   "cell_type": "code",
   "execution_count": 51,
   "metadata": {
    "scrolled": false
   },
   "outputs": [
    {
     "name": "stdout",
     "output_type": "stream",
     "text": [
      "Output traffic files:\n",
      "c:/Users/Geollect/Documents/ArcGIS/Projects/risk_model/working_dir/GoG123_20170205_offshore_traffic_lyr\n",
      "['c:/Users/Geollect/Documents/ArcGIS/Projects/risk_model/working_dir/GoG123_20170205_offshore_traffic_lyr']\n",
      "Output traffic files:\n",
      "c:/Users/Geollect/Documents/ArcGIS/Projects/risk_model/working_dir/GoG123_20170206_offshore_traffic_lyr\n",
      "['c:/Users/Geollect/Documents/ArcGIS/Projects/risk_model/working_dir/GoG123_20170205_offshore_traffic_lyr', 'c:/Users/Geollect/Documents/ArcGIS/Projects/risk_model/working_dir/GoG123_20170206_offshore_traffic_lyr']\n",
      "Output traffic files:\n",
      "c:/Users/Geollect/Documents/ArcGIS/Projects/risk_model/working_dir/GoG123_20170207_offshore_traffic_lyr\n",
      "['c:/Users/Geollect/Documents/ArcGIS/Projects/risk_model/working_dir/GoG123_20170205_offshore_traffic_lyr', 'c:/Users/Geollect/Documents/ArcGIS/Projects/risk_model/working_dir/GoG123_20170206_offshore_traffic_lyr', 'c:/Users/Geollect/Documents/ArcGIS/Projects/risk_model/working_dir/GoG123_20170207_offshore_traffic_lyr']\n"
     ]
    }
   ],
   "source": [
    "# Create Shipping tracks\n",
    "#AIS123pts_test = AIS123pts[:1]\n",
    "traffic_lyr = ais2traffic(FileGDB_path,AIS123pts,AISjoin_field,AISjoin_order,continent_polygon)"
   ]
  },
  {
   "cell_type": "code",
   "execution_count": 60,
   "metadata": {},
   "outputs": [],
   "source": [
    "# Create base grid\n",
    "GRD = tes_grid(FileGDB_path, FileGDB_name, traffic_lyr, continent_polygon, grid_extent,spatial_ref, SIZE, SHAPE)"
   ]
  },
  {
   "cell_type": "code",
   "execution_count": 58,
   "metadata": {},
   "outputs": [
    {
     "name": "stdout",
     "output_type": "stream",
     "text": [
      "c:/Users/Geollect/Documents/ArcGIS/Projects/risk_model/working_dir/risk_model_5-7.gdb/incident_density_050217\n",
      "c:/Users/Geollect/Documents/ArcGIS/Projects/risk_model/working_dir/risk_model_5-7.gdb/incident_density_060217\n",
      "c:/Users/Geollect/Documents/ArcGIS/Projects/risk_model/working_dir/risk_model_5-7.gdb/incident_density_070217\n"
     ]
    }
   ],
   "source": [
    "# Calculate incident density (km^-2). NEED TO ADD BOUNDARY INCIDENTS\n",
    "inc_d, inc_date = incident_density(FileGDB_path, FileGDB_name, incidentspts, GRD)\n",
    "#print(inc_d)\n",
    "#print(inc_date)"
   ]
  },
  {
   "cell_type": "code",
   "execution_count": null,
   "metadata": {},
   "outputs": [],
   "source": [
    "# Calculate traffic density\n",
    "Traf_dens, out_date = traffic_density(inc_d, traffic_lyr, GRD,FileGDB_path, FileGDB_name)"
   ]
  },
  {
   "cell_type": "code",
   "execution_count": null,
   "metadata": {},
   "outputs": [],
   "source": [
    "inc_freq(Traf_dens, inc_d, GRD, FileGDB_path, FileGDB_name, \"incident_frequency\")"
   ]
  },
  {
   "cell_type": "code",
   "execution_count": null,
   "metadata": {},
   "outputs": [],
   "source": [
    "# 1710\n",
    "import datetime\n",
    "print(datetime.datetime.now())"
   ]
  },
  {
   "cell_type": "code",
   "execution_count": null,
   "metadata": {},
   "outputs": [],
   "source": []
  },
  {
   "cell_type": "code",
   "execution_count": null,
   "metadata": {},
   "outputs": [],
   "source": []
  },
  {
   "cell_type": "code",
   "execution_count": null,
   "metadata": {},
   "outputs": [],
   "source": []
  },
  {
   "cell_type": "code",
   "execution_count": null,
   "metadata": {},
   "outputs": [],
   "source": []
  },
  {
   "cell_type": "code",
   "execution_count": null,
   "metadata": {},
   "outputs": [],
   "source": []
  },
  {
   "cell_type": "code",
   "execution_count": null,
   "metadata": {},
   "outputs": [],
   "source": []
  },
  {
   "cell_type": "code",
   "execution_count": null,
   "metadata": {},
   "outputs": [],
   "source": []
  },
  {
   "cell_type": "code",
   "execution_count": null,
   "metadata": {},
   "outputs": [],
   "source": []
  },
  {
   "cell_type": "code",
   "execution_count": null,
   "metadata": {},
   "outputs": [],
   "source": []
  },
  {
   "cell_type": "code",
   "execution_count": null,
   "metadata": {},
   "outputs": [],
   "source": []
  },
  {
   "cell_type": "code",
   "execution_count": null,
   "metadata": {},
   "outputs": [],
   "source": []
  },
  {
   "cell_type": "code",
   "execution_count": null,
   "metadata": {},
   "outputs": [],
   "source": [
    "#make feature layer for point shapefile  \n",
    "for row in arcpy.SearchCursor(polygon shapefile):  \n",
    "    #get FID and use it to construct a query that would only select the row (polygon) that you're looking at  \n",
    "    #make feature layer using that query so now you have a one-feature feature layer  \n",
    "    value = row.getValue(\"name of field you want a value from\")  \n",
    "    #use this feature layer to make a select by location operation on the point layer you made above  \n",
    "    updaterows = arcpy.UpdateCursor(point feature layer) #the cursor should only contain the selected feature(s)  \n",
    "    for rw in updaterows:  \n",
    "        rw.setValue(\"field name you want to put the value in\",value)  \n",
    "        updaterows.UpdateRow(rw) "
   ]
  },
  {
   "cell_type": "code",
   "execution_count": null,
   "metadata": {},
   "outputs": [],
   "source": []
  },
  {
   "cell_type": "code",
   "execution_count": null,
   "metadata": {},
   "outputs": [],
   "source": [
    "# Is this loop division useful, or will it be slow?\n",
    "\n",
    "inFeature = outFeature\n",
    "my_list = ['a', 'b', 'c', 'Shape_Area']\n",
    "divfield = len(my_list) - 1\n",
    "\n",
    "with arcpy.da.UpdateCursor(inFeature, my_list) as cursor:\n",
    "    for row in cursor:\n",
    "        for n in range(len(my_list)):\n",
    "            row[n] = row[n] / row[divfield]\n",
    "        cursor.updateRow(row)"
   ]
  },
  {
   "cell_type": "code",
   "execution_count": null,
   "metadata": {},
   "outputs": [],
   "source": []
  },
  {
   "cell_type": "code",
   "execution_count": 30,
   "metadata": {},
   "outputs": [
    {
     "ename": "ExecuteError",
     "evalue": "ERROR 000358: Invalid expression\nFailed to execute (SelectLayerByAttribute).\n",
     "output_type": "error",
     "traceback": [
      "\u001b[1;31m---------------------------------------------------------------------------\u001b[0m",
      "\u001b[1;31mExecuteError\u001b[0m                              Traceback (most recent call last)",
      "\u001b[1;32m<ipython-input-30-792898000a4d>\u001b[0m in \u001b[0;36m<module>\u001b[1;34m()\u001b[0m\n\u001b[0;32m     11\u001b[0m \u001b[1;31m# ------------------\u001b[0m\u001b[1;33m\u001b[0m\u001b[1;33m\u001b[0m\u001b[0m\n\u001b[0;32m     12\u001b[0m \u001b[1;33m\u001b[0m\u001b[0m\n\u001b[1;32m---> 13\u001b[1;33m \u001b[0marcpy\u001b[0m\u001b[1;33m.\u001b[0m\u001b[0mSelectLayerByAttribute_management\u001b[0m\u001b[1;33m(\u001b[0m\u001b[0mFileGDB_path\u001b[0m \u001b[1;33m+\u001b[0m \u001b[0mFileGDB_name\u001b[0m \u001b[1;33m+\u001b[0m \u001b[1;34m\"\\\\\"\u001b[0m \u001b[1;33m+\u001b[0m \u001b[0mstr\u001b[0m\u001b[1;33m(\u001b[0m\u001b[0mtraffic\u001b[0m\u001b[1;33m[\u001b[0m\u001b[0mi\u001b[0m\u001b[1;33m]\u001b[0m\u001b[1;33m)\u001b[0m\u001b[1;33m[\u001b[0m\u001b[1;33m-\u001b[0m\u001b[1;36m36\u001b[0m\u001b[1;33m:\u001b[0m\u001b[1;33m]\u001b[0m\u001b[1;33m+\u001b[0m\u001b[1;34m\"_test\"\u001b[0m\u001b[1;33m,\u001b[0m\u001b[1;34m\"NEW_SELECTION\"\u001b[0m\u001b[1;33m,\u001b[0m\u001b[1;34m'!path_len! <0.05'\u001b[0m\u001b[1;33m)\u001b[0m\u001b[1;33m\u001b[0m\u001b[0m\n\u001b[0m\u001b[0;32m     14\u001b[0m \u001b[0marcpy\u001b[0m\u001b[1;33m.\u001b[0m\u001b[0mCopyFeatures_management\u001b[0m \u001b[1;33m(\u001b[0m\u001b[0mFileGDB_path\u001b[0m \u001b[1;33m+\u001b[0m \u001b[0mFileGDB_name\u001b[0m \u001b[1;33m+\u001b[0m \u001b[1;34m\"\\\\\"\u001b[0m \u001b[1;33m+\u001b[0m \u001b[0mstr\u001b[0m\u001b[1;33m(\u001b[0m\u001b[0mtraffic\u001b[0m\u001b[1;33m[\u001b[0m\u001b[0mi\u001b[0m\u001b[1;33m]\u001b[0m\u001b[1;33m)\u001b[0m\u001b[1;33m[\u001b[0m\u001b[1;33m-\u001b[0m\u001b[1;36m36\u001b[0m\u001b[1;33m:\u001b[0m\u001b[1;33m]\u001b[0m\u001b[1;33m,\u001b[0m \u001b[0mFileGDB_path\u001b[0m \u001b[1;33m+\u001b[0m \u001b[0mFileGDB_name\u001b[0m \u001b[1;33m+\u001b[0m \u001b[1;34m\"\\\\\"\u001b[0m \u001b[1;33m+\u001b[0m \u001b[0mstr\u001b[0m\u001b[1;33m(\u001b[0m\u001b[0mtraffic\u001b[0m\u001b[1;33m[\u001b[0m\u001b[0mi\u001b[0m\u001b[1;33m]\u001b[0m\u001b[1;33m)\u001b[0m\u001b[1;33m[\u001b[0m\u001b[1;33m-\u001b[0m\u001b[1;36m36\u001b[0m\u001b[1;33m:\u001b[0m\u001b[1;33m]\u001b[0m\u001b[1;33m+\u001b[0m\u001b[1;34m\"_test\"\u001b[0m\u001b[1;33m)\u001b[0m\u001b[1;33m\u001b[0m\u001b[0m\n\u001b[0;32m     15\u001b[0m \u001b[0marcpy\u001b[0m\u001b[1;33m.\u001b[0m\u001b[0mDeleteFeatures_management\u001b[0m\u001b[1;33m(\u001b[0m\u001b[0mFileGDB_path\u001b[0m \u001b[1;33m+\u001b[0m \u001b[0mFileGDB_name\u001b[0m \u001b[1;33m+\u001b[0m \u001b[1;34m\"\\\\\"\u001b[0m \u001b[1;33m+\u001b[0m \u001b[0mstr\u001b[0m\u001b[1;33m(\u001b[0m\u001b[0mtraffic\u001b[0m\u001b[1;33m[\u001b[0m\u001b[0mi\u001b[0m\u001b[1;33m]\u001b[0m\u001b[1;33m)\u001b[0m\u001b[1;33m[\u001b[0m\u001b[1;33m-\u001b[0m\u001b[1;36m36\u001b[0m\u001b[1;33m:\u001b[0m\u001b[1;33m]\u001b[0m\u001b[1;33m+\u001b[0m\u001b[1;34m\"_test\"\u001b[0m\u001b[1;33m)\u001b[0m\u001b[1;33m\u001b[0m\u001b[0m\n",
      "\u001b[1;32mC:\\Program Files\\ArcGIS\\Pro\\Resources\\ArcPy\\arcpy\\management.py\u001b[0m in \u001b[0;36mSelectLayerByAttribute\u001b[1;34m(in_layer_or_view, selection_type, where_clause, invert_where_clause)\u001b[0m\n\u001b[0;32m   7236\u001b[0m         \u001b[1;32mreturn\u001b[0m \u001b[0mretval\u001b[0m\u001b[1;33m\u001b[0m\u001b[0m\n\u001b[0;32m   7237\u001b[0m     \u001b[1;32mexcept\u001b[0m \u001b[0mException\u001b[0m \u001b[1;32mas\u001b[0m \u001b[0me\u001b[0m\u001b[1;33m:\u001b[0m\u001b[1;33m\u001b[0m\u001b[0m\n\u001b[1;32m-> 7238\u001b[1;33m         \u001b[1;32mraise\u001b[0m \u001b[0me\u001b[0m\u001b[1;33m\u001b[0m\u001b[0m\n\u001b[0m\u001b[0;32m   7239\u001b[0m \u001b[1;33m\u001b[0m\u001b[0m\n\u001b[0;32m   7240\u001b[0m \u001b[1;33m@\u001b[0m\u001b[0mgptooldoc\u001b[0m\u001b[1;33m(\u001b[0m\u001b[1;34m'SelectLayerByLocation_management'\u001b[0m\u001b[1;33m,\u001b[0m \u001b[1;32mNone\u001b[0m\u001b[1;33m)\u001b[0m\u001b[1;33m\u001b[0m\u001b[0m\n",
      "\u001b[1;32mC:\\Program Files\\ArcGIS\\Pro\\Resources\\ArcPy\\arcpy\\management.py\u001b[0m in \u001b[0;36mSelectLayerByAttribute\u001b[1;34m(in_layer_or_view, selection_type, where_clause, invert_where_clause)\u001b[0m\n\u001b[0;32m   7233\u001b[0m     \u001b[1;32mfrom\u001b[0m \u001b[0marcpy\u001b[0m\u001b[1;33m.\u001b[0m\u001b[0marcobjects\u001b[0m\u001b[1;33m.\u001b[0m\u001b[0marcobjectconversion\u001b[0m \u001b[1;32mimport\u001b[0m \u001b[0mconvertArcObjectToPythonObject\u001b[0m\u001b[1;33m\u001b[0m\u001b[0m\n\u001b[0;32m   7234\u001b[0m     \u001b[1;32mtry\u001b[0m\u001b[1;33m:\u001b[0m\u001b[1;33m\u001b[0m\u001b[0m\n\u001b[1;32m-> 7235\u001b[1;33m         \u001b[0mretval\u001b[0m \u001b[1;33m=\u001b[0m \u001b[0mconvertArcObjectToPythonObject\u001b[0m\u001b[1;33m(\u001b[0m\u001b[0mgp\u001b[0m\u001b[1;33m.\u001b[0m\u001b[0mSelectLayerByAttribute_management\u001b[0m\u001b[1;33m(\u001b[0m\u001b[1;33m*\u001b[0m\u001b[0mgp_fixargs\u001b[0m\u001b[1;33m(\u001b[0m\u001b[1;33m(\u001b[0m\u001b[0min_layer_or_view\u001b[0m\u001b[1;33m,\u001b[0m \u001b[0mselection_type\u001b[0m\u001b[1;33m,\u001b[0m \u001b[0mwhere_clause\u001b[0m\u001b[1;33m,\u001b[0m \u001b[0minvert_where_clause\u001b[0m\u001b[1;33m)\u001b[0m\u001b[1;33m,\u001b[0m \u001b[1;32mTrue\u001b[0m\u001b[1;33m)\u001b[0m\u001b[1;33m)\u001b[0m\u001b[1;33m)\u001b[0m\u001b[1;33m\u001b[0m\u001b[0m\n\u001b[0m\u001b[0;32m   7236\u001b[0m         \u001b[1;32mreturn\u001b[0m \u001b[0mretval\u001b[0m\u001b[1;33m\u001b[0m\u001b[0m\n\u001b[0;32m   7237\u001b[0m     \u001b[1;32mexcept\u001b[0m \u001b[0mException\u001b[0m \u001b[1;32mas\u001b[0m \u001b[0me\u001b[0m\u001b[1;33m:\u001b[0m\u001b[1;33m\u001b[0m\u001b[0m\n",
      "\u001b[1;32mC:\\Program Files\\ArcGIS\\Pro\\Resources\\ArcPy\\arcpy\\geoprocessing\\_base.py\u001b[0m in \u001b[0;36m<lambda>\u001b[1;34m(*args)\u001b[0m\n\u001b[0;32m    494\u001b[0m         \u001b[0mval\u001b[0m \u001b[1;33m=\u001b[0m \u001b[0mgetattr\u001b[0m\u001b[1;33m(\u001b[0m\u001b[0mself\u001b[0m\u001b[1;33m.\u001b[0m\u001b[0m_gp\u001b[0m\u001b[1;33m,\u001b[0m \u001b[0mattr\u001b[0m\u001b[1;33m)\u001b[0m\u001b[1;33m\u001b[0m\u001b[0m\n\u001b[0;32m    495\u001b[0m         \u001b[1;32mif\u001b[0m \u001b[0mcallable\u001b[0m\u001b[1;33m(\u001b[0m\u001b[0mval\u001b[0m\u001b[1;33m)\u001b[0m\u001b[1;33m:\u001b[0m\u001b[1;33m\u001b[0m\u001b[0m\n\u001b[1;32m--> 496\u001b[1;33m             \u001b[1;32mreturn\u001b[0m \u001b[1;32mlambda\u001b[0m \u001b[1;33m*\u001b[0m\u001b[0margs\u001b[0m\u001b[1;33m:\u001b[0m \u001b[0mval\u001b[0m\u001b[1;33m(\u001b[0m\u001b[1;33m*\u001b[0m\u001b[0mgp_fixargs\u001b[0m\u001b[1;33m(\u001b[0m\u001b[0margs\u001b[0m\u001b[1;33m,\u001b[0m \u001b[1;32mTrue\u001b[0m\u001b[1;33m)\u001b[0m\u001b[1;33m)\u001b[0m\u001b[1;33m\u001b[0m\u001b[0m\n\u001b[0m\u001b[0;32m    497\u001b[0m         \u001b[1;32melse\u001b[0m\u001b[1;33m:\u001b[0m\u001b[1;33m\u001b[0m\u001b[0m\n\u001b[0;32m    498\u001b[0m             \u001b[1;32mreturn\u001b[0m \u001b[0mconvertArcObjectToPythonObject\u001b[0m\u001b[1;33m(\u001b[0m\u001b[0mval\u001b[0m\u001b[1;33m)\u001b[0m\u001b[1;33m\u001b[0m\u001b[0m\n",
      "\u001b[1;31mExecuteError\u001b[0m: ERROR 000358: Invalid expression\nFailed to execute (SelectLayerByAttribute).\n"
     ]
    }
   ],
   "source": [
    "copy GDB and rename inc_freq\n",
    "\n",
    "join attributes inc_d and traf_c, and do cursor thing abouive to divide?\n",
    "Can above be run with updates as feature is updated. DO we need a temp fiel of todays date to test if it has been run? \n",
    "\n",
    "\n",
    "\n",
    "#COPY FIELD, TAKE THOSE LESS THAN 10 m and = None\n",
    "# Should we remove the short lines...? Will it be much quicker?\n",
    "#10:46\n",
    "\n",
    "#Find summary of these (how many)\n",
    "i=0\n",
    "#arcpy.AddField_management(FileGDB_path + FileGDB_name + \"\\\\\" + str(traffic[i])[-36:], \"path_50m\", \"FLOAT\",\"\",9,\"\",\"\",\"NULLABLE\",\"REQUIRED\",\"\")\n",
    "#arcpy.CalculateField_management(FileGDB_path + FileGDB_name + \"\\\\\" + str(traffic[i])[-36:],\"path_50m\", '!path_len! if !path_len! > 0.05 else None', 'PYTHON3')\n",
    "#arcpy.SummarizeWithin_analysis (OUT,FileGDB_path + FileGDB_name + \"\\\\\" + str(traffic[i])[-36:],FileGDB_path + FileGDB_name + \"\\\\\" + \"Traffic_density\" + DATE, \"KEEP_ALL\", [['path_50m', 'SUM']], \"ADD_SHAPE_SUM\", \"Kilometers\",\"\",NO_MIN_MAJ\", \"NO_PERCENT\")\n",
    "\n",
    "# ------------------\n",
    "# THIS WONT WORK (ORDER)\n",
    "arcpy.SelectLayerByAttribute_management(FileGDB_path + FileGDB_name + \"\\\\\" + str(traffic[i])[-36:]+\"_test\",\"NEW_SELECTION\",'!path_len! <0.05')\n",
    "arcpy.CopyFeatures_management (FileGDB_path + FileGDB_name + \"\\\\\" + str(traffic[i])[-36:], FileGDB_path + FileGDB_name + \"\\\\\" + str(traffic[i])[-36:]+\"_test\")\n",
    "arcpy.DeleteFeatures_management(FileGDB_path + FileGDB_name + \"\\\\\" + str(traffic[i])[-36:]+\"_test\")\n",
    "arcpy.SummarizeWithin_analysis (OUT,FileGDB_path + FileGDB_name + \"\\\\\" + str(traffic[i])[-36:]+\"_test\",FileGDB_path + FileGDB_name + \"\\\\\" + \"Traffic_density\" +\"_\"+str(traffic[i])[-29:-21], \"KEEP_ALL\", [['path_50m', 'SUM']], \"ADD_SHAPE_SUM\", \"Kilometers\",\"\",\"NO_MIN_MAJ\", \"NO_PERCENT\")\n",
    "\n",
    "\n",
    "#arcpy.AddField_management(FileGDB_path + FileGDB_name + \"\\\\\" + str(traffic[i])[-36:], \"path_50m\", \"FLOAT\",\"\",9,\"\",\"\",\"NULLABLE\",\"REQUIRED\",\"\")\n",
    "#arcpy.CalculateField_management(FileGDB_path + FileGDB_name + \"\\\\\" + str(traffic[i])[-36:],\"path_50m\", '!path_len! if !path_len! > 0.05 else None', 'PYTHON3')\n",
    "#arcpy.SummarizeWithin_analysis (OUT,FileGDB_path + FileGDB_name + \"\\\\\" + str(traffic[i])[-36:]+\"_test\",FileGDB_path + FileGDB_name + \"\\\\\" + \"Traffic_density\" + DATE, \"KEEP_ALL\", [['path_50m', 'SUM']], \"ADD_SHAPE_SUM\", \"Kilometers\",,\"NO_MIN_MAJ\", \"NO_PERCENT\")\n"
   ]
  },
  {
   "cell_type": "code",
   "execution_count": null,
   "metadata": {},
   "outputs": [],
   "source": []
  },
  {
   "cell_type": "code",
   "execution_count": null,
   "metadata": {},
   "outputs": [],
   "source": []
  },
  {
   "cell_type": "code",
   "execution_count": null,
   "metadata": {},
   "outputs": [],
   "source": []
  },
  {
   "cell_type": "code",
   "execution_count": 14,
   "metadata": {},
   "outputs": [],
   "source": [
    "import arcpy\n",
    "\n",
    "# Set the workspace environment\n",
    "arcpy.env.workspace =\"c:/Users/Geollect/Documents/ArcGIS/Projects/risk_model/risk_data/continents/\"\n",
    "\n",
    "# Get a list of the feature classes in the input folder\n",
    "feature_classes = arcpy.ListFeatureClasses()\n",
    "\n",
    "# Loop through the list\n",
    "for fc in feature_classes:\n",
    "    # Create the spatial reference object\n",
    "    spatial_ref = arcpy.Describe(fc).spatialReference\n",
    "\n",
    "    # If the spatial reference is unknown\n",
    "    if spatial_ref.name == \"Unknown\":\n",
    "        print(\"{0} has an unknown spatial reference\".format(fc))\n",
    "\n",
    "    # Otherwise, print out the feature class name and\n",
    "    # spatial reference\n",
    "    else:\n",
    "        print(\"{0} : {1}\".format(fc, spatial_ref.name))"
   ]
  },
  {
   "cell_type": "code",
   "execution_count": null,
   "metadata": {},
   "outputs": [],
   "source": []
  },
  {
   "cell_type": "code",
   "execution_count": null,
   "metadata": {},
   "outputs": [],
   "source": []
  },
  {
   "cell_type": "code",
   "execution_count": null,
   "metadata": {},
   "outputs": [],
   "source": []
  },
  {
   "cell_type": "code",
   "execution_count": null,
   "metadata": {},
   "outputs": [],
   "source": []
  },
  {
   "cell_type": "code",
   "execution_count": null,
   "metadata": {},
   "outputs": [],
   "source": []
  },
  {
   "cell_type": "code",
   "execution_count": null,
   "metadata": {},
   "outputs": [],
   "source": []
  },
  {
   "cell_type": "code",
   "execution_count": null,
   "metadata": {},
   "outputs": [],
   "source": []
  },
  {
   "cell_type": "code",
   "execution_count": null,
   "metadata": {},
   "outputs": [],
   "source": []
  },
  {
   "cell_type": "code",
   "execution_count": null,
   "metadata": {},
   "outputs": [],
   "source": []
  },
  {
   "cell_type": "code",
   "execution_count": null,
   "metadata": {},
   "outputs": [],
   "source": []
  },
  {
   "cell_type": "code",
   "execution_count": null,
   "metadata": {},
   "outputs": [],
   "source": []
  },
  {
   "cell_type": "code",
   "execution_count": null,
   "metadata": {},
   "outputs": [],
   "source": []
  },
  {
   "cell_type": "code",
   "execution_count": null,
   "metadata": {},
   "outputs": [],
   "source": []
  },
  {
   "cell_type": "code",
   "execution_count": null,
   "metadata": {},
   "outputs": [],
   "source": []
  },
  {
   "cell_type": "code",
   "execution_count": null,
   "metadata": {},
   "outputs": [],
   "source": []
  },
  {
   "cell_type": "code",
   "execution_count": 145,
   "metadata": {},
   "outputs": [
    {
     "data": {
      "text/plain": [
       "True"
      ]
     },
     "execution_count": 145,
     "metadata": {},
     "output_type": "execute_result"
    }
   ],
   "source": [
    "arcpy.TestSchemaLock (FileGDB_path + FileGDB_name + \"/incidents_060217\")"
   ]
  },
  {
   "cell_type": "code",
   "execution_count": null,
   "metadata": {},
   "outputs": [],
   "source": []
  }
 ],
 "metadata": {
  "kernelspec": {
   "display_name": "Python 3",
   "language": "python",
   "name": "python3"
  },
  "language_info": {
   "codemirror_mode": {
    "name": "ipython",
    "version": 3
   },
   "file_extension": ".py",
   "mimetype": "text/x-python",
   "name": "python",
   "nbconvert_exporter": "python",
   "pygments_lexer": "ipython3",
   "version": "3.6.5"
  }
 },
 "nbformat": 4,
 "nbformat_minor": 2
}
